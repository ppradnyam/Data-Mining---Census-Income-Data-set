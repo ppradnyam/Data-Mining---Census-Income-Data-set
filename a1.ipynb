{
 "cells": [
  {
   "cell_type": "markdown",
   "metadata": {},
   "source": [
    "# A1 - Python\n",
    "\n",
    "This assignment will cover some questions related to topics of data types, attribute types, exploratory data analysis, and data preprocessing. The assignment will also serve as a further introduction to using a high-level language for analysis (e.g., R, Python).\n",
    "\n",
    "Make sure that you keep this notebook named as \"a1.ipynb\" \n",
    "\n",
    "Submit the zip-file created after running your notebook on the Linux lab machines. \n",
    "\n",
    "Your answers must be computer generated (including text and diagrams). Your final document submission should include text responses to questions and description of your efforts, tables, R/Python code used to calculate answers, and figures.\n",
    "\n",
    "Any other packages or tools, outside those listed in the assignments or Canvas, should be cleared\n",
    "by Dr. Brown before use in your submission.\n",
    "\n",
    "\n"
   ]
  },
  {
   "cell_type": "markdown",
   "metadata": {},
   "source": [
    "## Q0 - Setup\n",
    "\n",
    "The following code looks to see whether your notebook is run on Gradescope (GS), Colab (COLAB), or the linux Python environment you were asked to setup."
   ]
  },
  {
   "cell_type": "code",
   "execution_count": 1,
   "metadata": {},
   "outputs": [
    {
     "name": "stdout",
     "output_type": "stream",
     "text": [
      "System: GS - False, COLAB - False, LLM - False\n"
     ]
    }
   ],
   "source": [
    "import re \n",
    "import os\n",
    "import platform \n",
    "import sys \n",
    "\n",
    "# flag if notebook is running on Gradescope \n",
    "if re.search(r'amzn', platform.uname().release): \n",
    "    GS = True\n",
    "else: \n",
    "    GS = False\n",
    "\n",
    "# flag if notebook is running on Colaboratory \n",
    "try:\n",
    "  import google.colab\n",
    "  COLAB = True\n",
    "except:\n",
    "  COLAB = False\n",
    "\n",
    "# flag if running on Linux lab machines. \n",
    "cname = platform.uname().node\n",
    "if re.search(r'(guardian|colossus|c28)', cname):\n",
    "    LLM = True \n",
    "else: \n",
    "    LLM = False\n",
    "\n",
    "print(\"System: GS - %s, COLAB - %s, LLM - %s\" % (GS, COLAB, LLM))"
   ]
  },
  {
   "cell_type": "markdown",
   "metadata": {},
   "source": [
    "### Notebook Setup \n",
    "\n",
    "It is good practice to list all imports needed at the top of the notebook. You can import modules in later cells as needed, but listing them at the top clearly shows all which are needed to be available / installed.\n",
    "\n",
    "If you are doing development on Colab, the otter-grader package is not available, so you will need to install it with pip (uncomment the cell directly below)."
   ]
  },
  {
   "cell_type": "code",
   "execution_count": 2,
   "metadata": {},
   "outputs": [],
   "source": [
    "# Only uncomment if you developing on Colab \n",
    "# if COLAB == True: \n",
    "#     print(\"Installing otter:\")\n",
    "#     !pip install otter-grader==4.2.0 "
   ]
  },
  {
   "cell_type": "code",
   "execution_count": 3,
   "metadata": {},
   "outputs": [],
   "source": [
    "# Import standard DS packages \n",
    "import pandas as pd \n",
    "import numpy as np\n",
    "import matplotlib as mpl \n",
    "import matplotlib.pyplot as plt \n",
    "import seaborn as sns\n",
    "from sklearn import preprocessing\n",
    "%matplotlib inline \n",
    "\n",
    "# Packages useful for Q4\n",
    "from scipy.spatial.distance import pdist\n",
    "from scipy.spatial.distance import squareform\n",
    "\n",
    "\n",
    "# Package for Autograder \n",
    "import otter \n",
    "grader = otter.Notebook()"
   ]
  },
  {
   "cell_type": "code",
   "execution_count": 4,
   "metadata": {
    "deletable": false,
    "editable": false
   },
   "outputs": [
    {
     "data": {
      "text/html": [
       "<p><strong style='color: red;'><pre style='display: inline;'>q0</pre> results:</strong></p><p><strong><pre style='display: inline;'>q0 - 1</pre> result:</strong></p><pre>    ✅ Test case passed</pre><p><strong><pre style='display: inline;'>q0 - 2</pre> result:</strong></p><pre>    ❌ Test case failed\n",
       "    Trying:\n",
       "        LLM == True | GS == True\n",
       "    Expecting:\n",
       "        True\n",
       "    **********************************************************************\n",
       "    Line 1, in q0 1\n",
       "    Failed example:\n",
       "        LLM == True | GS == True\n",
       "    Expected:\n",
       "        True\n",
       "    Got:\n",
       "        False\n",
       "</pre>"
      ],
      "text/plain": [
       "q0 results:\n",
       "    q0 - 1 result:\n",
       "        ✅ Test case passed\n",
       "\n",
       "    q0 - 2 result:\n",
       "        ❌ Test case failed\n",
       "        Trying:\n",
       "            LLM == True | GS == True\n",
       "        Expecting:\n",
       "            True\n",
       "        **********************************************************************\n",
       "        Line 1, in q0 1\n",
       "        Failed example:\n",
       "            LLM == True | GS == True\n",
       "        Expected:\n",
       "            True\n",
       "        Got:\n",
       "            False"
      ]
     },
     "execution_count": 4,
     "metadata": {},
     "output_type": "execute_result"
    }
   ],
   "source": [
    "grader.check(\"q0\")"
   ]
  },
  {
   "cell_type": "markdown",
   "metadata": {},
   "source": [
    "## Q1 - Census Data \n",
    "\n",
    "Consider the [Census Income data set](http://archive.ics.uci.edu/ml/datasets/Census+Income) available at the [UCI ML archive](http://archive.ics.uci.edu/ml/index.php). Specifically, you will be interested in the `adult.data` file which contains the data and `adult.names` files which contains documentation about the data.\n",
    "\n",
    "You should explore the files a bit in a text editor to understand the format. Then load the data for you analysis, the first samples of the data set should be:\n",
    "\n",
    "```\n",
    "39, State-gov, 77516, Bachelors, 13, Never-married, Adm-clerical, Not-in-family,\n",
    "        White, Male, 2174, 0, 40, United-States, <=50K\n",
    "```\n",
    "\n",
    "You attributes should be named: \n",
    "```\n",
    "\"age\", \"workclass\", \"fnlwgt\", \"education\", \"education_num\", \"marital_status\", \"occupation\", \"relationship\", \"race\", \"sex\", \"capital_gain\", \"capital_loss\", \"hours_per_week\", \"native_country\", \"income\"\n",
    "```"
   ]
  },
  {
   "cell_type": "markdown",
   "metadata": {},
   "source": [
    "### Q1a - Load Data \n",
    "\n",
    "Load in the data directly from the UCI website into a Pandas Data Frame. \n",
    "Make sure to recognize any missing values when the data is read in. "
   ]
  },
  {
   "cell_type": "code",
   "execution_count": 5,
   "metadata": {
    "tags": []
   },
   "outputs": [
    {
     "name": "stderr",
     "output_type": "stream",
     "text": [
      "C:\\Users\\pprad\\AppData\\Local\\Temp\\ipykernel_11076\\2308060737.py:7: ParserWarning: Falling back to the 'python' engine because the 'c' engine does not support regex separators (separators > 1 char and different from '\\s+' are interpreted as regex); you can avoid this warning by specifying engine='python'.\n",
      "  adult = pd.read_csv(\"http://archive.ics.uci.edu/ml/machine-learning-databases/adult/adult.data\", names = colnames, sep = ', ',\n"
     ]
    },
    {
     "data": {
      "text/html": [
       "<div>\n",
       "<style scoped>\n",
       "    .dataframe tbody tr th:only-of-type {\n",
       "        vertical-align: middle;\n",
       "    }\n",
       "\n",
       "    .dataframe tbody tr th {\n",
       "        vertical-align: top;\n",
       "    }\n",
       "\n",
       "    .dataframe thead th {\n",
       "        text-align: right;\n",
       "    }\n",
       "</style>\n",
       "<table border=\"1\" class=\"dataframe\">\n",
       "  <thead>\n",
       "    <tr style=\"text-align: right;\">\n",
       "      <th></th>\n",
       "      <th>age</th>\n",
       "      <th>workclass</th>\n",
       "      <th>fnlwgt</th>\n",
       "      <th>education</th>\n",
       "      <th>education_num</th>\n",
       "      <th>marital_status</th>\n",
       "      <th>occupation</th>\n",
       "      <th>relationship</th>\n",
       "      <th>race</th>\n",
       "      <th>sex</th>\n",
       "      <th>capital_gain</th>\n",
       "      <th>capital_loss</th>\n",
       "      <th>hours_per_week</th>\n",
       "      <th>native_country</th>\n",
       "      <th>income</th>\n",
       "    </tr>\n",
       "  </thead>\n",
       "  <tbody>\n",
       "    <tr>\n",
       "      <th>0</th>\n",
       "      <td>39</td>\n",
       "      <td>State-gov</td>\n",
       "      <td>77516</td>\n",
       "      <td>Bachelors</td>\n",
       "      <td>13</td>\n",
       "      <td>Never-married</td>\n",
       "      <td>Adm-clerical</td>\n",
       "      <td>Not-in-family</td>\n",
       "      <td>White</td>\n",
       "      <td>Male</td>\n",
       "      <td>2174</td>\n",
       "      <td>0</td>\n",
       "      <td>40</td>\n",
       "      <td>United-States</td>\n",
       "      <td>&lt;=50K</td>\n",
       "    </tr>\n",
       "    <tr>\n",
       "      <th>1</th>\n",
       "      <td>50</td>\n",
       "      <td>Self-emp-not-inc</td>\n",
       "      <td>83311</td>\n",
       "      <td>Bachelors</td>\n",
       "      <td>13</td>\n",
       "      <td>Married-civ-spouse</td>\n",
       "      <td>Exec-managerial</td>\n",
       "      <td>Husband</td>\n",
       "      <td>White</td>\n",
       "      <td>Male</td>\n",
       "      <td>0</td>\n",
       "      <td>0</td>\n",
       "      <td>13</td>\n",
       "      <td>United-States</td>\n",
       "      <td>&lt;=50K</td>\n",
       "    </tr>\n",
       "    <tr>\n",
       "      <th>2</th>\n",
       "      <td>38</td>\n",
       "      <td>Private</td>\n",
       "      <td>215646</td>\n",
       "      <td>HS-grad</td>\n",
       "      <td>9</td>\n",
       "      <td>Divorced</td>\n",
       "      <td>Handlers-cleaners</td>\n",
       "      <td>Not-in-family</td>\n",
       "      <td>White</td>\n",
       "      <td>Male</td>\n",
       "      <td>0</td>\n",
       "      <td>0</td>\n",
       "      <td>40</td>\n",
       "      <td>United-States</td>\n",
       "      <td>&lt;=50K</td>\n",
       "    </tr>\n",
       "    <tr>\n",
       "      <th>3</th>\n",
       "      <td>53</td>\n",
       "      <td>Private</td>\n",
       "      <td>234721</td>\n",
       "      <td>11th</td>\n",
       "      <td>7</td>\n",
       "      <td>Married-civ-spouse</td>\n",
       "      <td>Handlers-cleaners</td>\n",
       "      <td>Husband</td>\n",
       "      <td>Black</td>\n",
       "      <td>Male</td>\n",
       "      <td>0</td>\n",
       "      <td>0</td>\n",
       "      <td>40</td>\n",
       "      <td>United-States</td>\n",
       "      <td>&lt;=50K</td>\n",
       "    </tr>\n",
       "    <tr>\n",
       "      <th>4</th>\n",
       "      <td>28</td>\n",
       "      <td>Private</td>\n",
       "      <td>338409</td>\n",
       "      <td>Bachelors</td>\n",
       "      <td>13</td>\n",
       "      <td>Married-civ-spouse</td>\n",
       "      <td>Prof-specialty</td>\n",
       "      <td>Wife</td>\n",
       "      <td>Black</td>\n",
       "      <td>Female</td>\n",
       "      <td>0</td>\n",
       "      <td>0</td>\n",
       "      <td>40</td>\n",
       "      <td>Cuba</td>\n",
       "      <td>&lt;=50K</td>\n",
       "    </tr>\n",
       "  </tbody>\n",
       "</table>\n",
       "</div>"
      ],
      "text/plain": [
       "   age         workclass  fnlwgt  education  education_num  \\\n",
       "0   39         State-gov   77516  Bachelors             13   \n",
       "1   50  Self-emp-not-inc   83311  Bachelors             13   \n",
       "2   38           Private  215646    HS-grad              9   \n",
       "3   53           Private  234721       11th              7   \n",
       "4   28           Private  338409  Bachelors             13   \n",
       "\n",
       "       marital_status         occupation   relationship   race     sex  \\\n",
       "0       Never-married       Adm-clerical  Not-in-family  White    Male   \n",
       "1  Married-civ-spouse    Exec-managerial        Husband  White    Male   \n",
       "2            Divorced  Handlers-cleaners  Not-in-family  White    Male   \n",
       "3  Married-civ-spouse  Handlers-cleaners        Husband  Black    Male   \n",
       "4  Married-civ-spouse     Prof-specialty           Wife  Black  Female   \n",
       "\n",
       "   capital_gain  capital_loss  hours_per_week native_country income  \n",
       "0          2174             0              40  United-States  <=50K  \n",
       "1             0             0              13  United-States  <=50K  \n",
       "2             0             0              40  United-States  <=50K  \n",
       "3             0             0              40  United-States  <=50K  \n",
       "4             0             0              40           Cuba  <=50K  "
      ]
     },
     "execution_count": 5,
     "metadata": {},
     "output_type": "execute_result"
    }
   ],
   "source": [
    "colnames = [\"age\", \"workclass\", \"fnlwgt\", \"education\", \"education_num\", \"marital_status\", \n",
    "            \"occupation\", \"relationship\", \"race\", \"sex\", \"capital_gain\", \"capital_loss\",\n",
    "            \"hours_per_week\", \"native_country\", \"income\"]\n",
    "\n",
    "missing_values = ['?', 'na', 'NA', 'NAN', '']\n",
    "\n",
    "adult = pd.read_csv(\"http://archive.ics.uci.edu/ml/machine-learning-databases/adult/adult.data\", names = colnames, sep = ', ',\n",
    "                   na_values = missing_values)  \n",
    "\n",
    "adult.head()"
   ]
  },
  {
   "cell_type": "code",
   "execution_count": 6,
   "metadata": {
    "deletable": false,
    "editable": false
   },
   "outputs": [
    {
     "data": {
      "text/html": [
       "<p><strong><pre style='display: inline;'>q1a</pre></strong> passed! 🍀</p>"
      ],
      "text/plain": [
       "q1a results: All test cases passed!"
      ]
     },
     "execution_count": 6,
     "metadata": {},
     "output_type": "execute_result"
    }
   ],
   "source": [
    "grader.check(\"q1a\")"
   ]
  },
  {
   "cell_type": "markdown",
   "metadata": {},
   "source": [
    "<!-- BEGIN QUESTION -->\n",
    "\n",
    "### Q1b - Variable Definitions\n",
    "\n",
    "For each variable (column of the data set) excluding the final class/target variable (last column), write a clear 1-sentence description of what the variable is, i.e., what information does it describe and how is it defined or collected.  Then, state the attribute type: *nominal*, *ordinal*, *interval*, or *ratio*. \n",
    "\n",
    "To answer this question, you may have to do a bit of reading and research into this data set. If you can not find a clear explanation of what a variable is and how it is defined say so.\n",
    "\n",
    "For example, the variable `age` could be described as, “Age is the age of an individual as reported by that person for the 1990 census; the value is reported in integer units of years.”\n",
    "\n",
    "Refer to each variables by the column name."
   ]
  },
  {
   "cell_type": "markdown",
   "metadata": {},
   "source": [
    "**YOUR ANSWERS**\n",
    "\n",
    "* **age** - “Age is the age of an individual as reported by that person for the 1990 census; the value is reported in integer units of years.”  \n",
    "*Ratio*\n",
    "* **workclass**  - \"Workclass is category of work industry an individual work for\"\n",
    "*Nominal*\n",
    "* **fnlwgt** - \"Fnlwgt is continious number series as an ID\"\n",
    "*Ratio*\n",
    "* **education** - \"Education is the highest level of education pursued by an individual\"\n",
    "*Ordinal*\n",
    "* **education-num** - \"Education-num is continious number associated with the highest level of education pursued by an individual\"\n",
    "*Interval*\n",
    "* **marital-status** - \"Marital-status is status of marital situation of an individual\"\n",
    "*Nominal*\n",
    "* **occupation** - \"Occupation is job role or profession of an individual\"\n",
    "*Nominal*\n",
    "* **relationship** - \"Relationship is connection or association an individual has or holds\"\n",
    "*Nominal*\n",
    "* **race** - \"Race is the groups that individual belongs to based on physical traits regarded as common among people of shared ancestry\"\n",
    "*Nominal*\n",
    "* **sex** - \"Sex is the gender of an individual\"\n",
    "*Nominal*\n",
    "* **capital-gain** - \"Capital-gain is profits gained from the sale of capital assets by an individual\"\n",
    "*Ratio*\n",
    "* **capital-loss** - \"Capital-loss is loss incurred from the sale of capital assets by an individual\"\n",
    "*Ratio*\n",
    "* **hours-per-week** - \"Hours-per-week is number of hours individual works per week\"\n",
    "*Ratio*\n",
    "* **native-country** - \"Native-country is the country of origin of an individual\"\n",
    "*Nominal*\n",
    "* **income** - \"Income is earing of an individual with respect to 50K interval\"\n",
    "*Internval*\n",
    "\n",
    "\n",
    "\n",
    "\n"
   ]
  },
  {
   "cell_type": "markdown",
   "metadata": {},
   "source": [
    "<!-- END QUESTION -->\n",
    "\n",
    "### Q1c - Missing Variables \n",
    "\n",
    "There are missing data.  \n",
    "i. (2 points) What is the symbol or symbols used to indicate missing values?\n",
    "\n",
    "'?' is the symbol used to indicate missing values\n"
   ]
  },
  {
   "cell_type": "code",
   "execution_count": 7,
   "metadata": {},
   "outputs": [
    {
     "data": {
      "text/html": [
       "<div>\n",
       "<style scoped>\n",
       "    .dataframe tbody tr th:only-of-type {\n",
       "        vertical-align: middle;\n",
       "    }\n",
       "\n",
       "    .dataframe tbody tr th {\n",
       "        vertical-align: top;\n",
       "    }\n",
       "\n",
       "    .dataframe thead th {\n",
       "        text-align: right;\n",
       "    }\n",
       "</style>\n",
       "<table border=\"1\" class=\"dataframe\">\n",
       "  <thead>\n",
       "    <tr style=\"text-align: right;\">\n",
       "      <th></th>\n",
       "      <th>age</th>\n",
       "      <th>workclass</th>\n",
       "      <th>fnlwgt</th>\n",
       "      <th>education</th>\n",
       "      <th>education_num</th>\n",
       "      <th>marital_status</th>\n",
       "      <th>occupation</th>\n",
       "      <th>relationship</th>\n",
       "      <th>race</th>\n",
       "      <th>sex</th>\n",
       "      <th>capital_gain</th>\n",
       "      <th>capital_loss</th>\n",
       "      <th>hours_per_week</th>\n",
       "      <th>native_country</th>\n",
       "      <th>income</th>\n",
       "    </tr>\n",
       "  </thead>\n",
       "  <tbody>\n",
       "    <tr>\n",
       "      <th>0</th>\n",
       "      <td>39</td>\n",
       "      <td>State-gov</td>\n",
       "      <td>77516</td>\n",
       "      <td>Bachelors</td>\n",
       "      <td>13</td>\n",
       "      <td>Never-married</td>\n",
       "      <td>Adm-clerical</td>\n",
       "      <td>Not-in-family</td>\n",
       "      <td>White</td>\n",
       "      <td>Male</td>\n",
       "      <td>2174</td>\n",
       "      <td>0</td>\n",
       "      <td>40</td>\n",
       "      <td>United-States</td>\n",
       "      <td>&lt;=50K</td>\n",
       "    </tr>\n",
       "    <tr>\n",
       "      <th>1</th>\n",
       "      <td>50</td>\n",
       "      <td>Self-emp-not-inc</td>\n",
       "      <td>83311</td>\n",
       "      <td>Bachelors</td>\n",
       "      <td>13</td>\n",
       "      <td>Married-civ-spouse</td>\n",
       "      <td>Exec-managerial</td>\n",
       "      <td>Husband</td>\n",
       "      <td>White</td>\n",
       "      <td>Male</td>\n",
       "      <td>0</td>\n",
       "      <td>0</td>\n",
       "      <td>13</td>\n",
       "      <td>United-States</td>\n",
       "      <td>&lt;=50K</td>\n",
       "    </tr>\n",
       "    <tr>\n",
       "      <th>2</th>\n",
       "      <td>38</td>\n",
       "      <td>Private</td>\n",
       "      <td>215646</td>\n",
       "      <td>HS-grad</td>\n",
       "      <td>9</td>\n",
       "      <td>Divorced</td>\n",
       "      <td>Handlers-cleaners</td>\n",
       "      <td>Not-in-family</td>\n",
       "      <td>White</td>\n",
       "      <td>Male</td>\n",
       "      <td>0</td>\n",
       "      <td>0</td>\n",
       "      <td>40</td>\n",
       "      <td>United-States</td>\n",
       "      <td>&lt;=50K</td>\n",
       "    </tr>\n",
       "    <tr>\n",
       "      <th>3</th>\n",
       "      <td>53</td>\n",
       "      <td>Private</td>\n",
       "      <td>234721</td>\n",
       "      <td>11th</td>\n",
       "      <td>7</td>\n",
       "      <td>Married-civ-spouse</td>\n",
       "      <td>Handlers-cleaners</td>\n",
       "      <td>Husband</td>\n",
       "      <td>Black</td>\n",
       "      <td>Male</td>\n",
       "      <td>0</td>\n",
       "      <td>0</td>\n",
       "      <td>40</td>\n",
       "      <td>United-States</td>\n",
       "      <td>&lt;=50K</td>\n",
       "    </tr>\n",
       "    <tr>\n",
       "      <th>4</th>\n",
       "      <td>28</td>\n",
       "      <td>Private</td>\n",
       "      <td>338409</td>\n",
       "      <td>Bachelors</td>\n",
       "      <td>13</td>\n",
       "      <td>Married-civ-spouse</td>\n",
       "      <td>Prof-specialty</td>\n",
       "      <td>Wife</td>\n",
       "      <td>Black</td>\n",
       "      <td>Female</td>\n",
       "      <td>0</td>\n",
       "      <td>0</td>\n",
       "      <td>40</td>\n",
       "      <td>Cuba</td>\n",
       "      <td>&lt;=50K</td>\n",
       "    </tr>\n",
       "    <tr>\n",
       "      <th>5</th>\n",
       "      <td>37</td>\n",
       "      <td>Private</td>\n",
       "      <td>284582</td>\n",
       "      <td>Masters</td>\n",
       "      <td>14</td>\n",
       "      <td>Married-civ-spouse</td>\n",
       "      <td>Exec-managerial</td>\n",
       "      <td>Wife</td>\n",
       "      <td>White</td>\n",
       "      <td>Female</td>\n",
       "      <td>0</td>\n",
       "      <td>0</td>\n",
       "      <td>40</td>\n",
       "      <td>United-States</td>\n",
       "      <td>&lt;=50K</td>\n",
       "    </tr>\n",
       "    <tr>\n",
       "      <th>6</th>\n",
       "      <td>49</td>\n",
       "      <td>Private</td>\n",
       "      <td>160187</td>\n",
       "      <td>9th</td>\n",
       "      <td>5</td>\n",
       "      <td>Married-spouse-absent</td>\n",
       "      <td>Other-service</td>\n",
       "      <td>Not-in-family</td>\n",
       "      <td>Black</td>\n",
       "      <td>Female</td>\n",
       "      <td>0</td>\n",
       "      <td>0</td>\n",
       "      <td>16</td>\n",
       "      <td>Jamaica</td>\n",
       "      <td>&lt;=50K</td>\n",
       "    </tr>\n",
       "    <tr>\n",
       "      <th>7</th>\n",
       "      <td>52</td>\n",
       "      <td>Self-emp-not-inc</td>\n",
       "      <td>209642</td>\n",
       "      <td>HS-grad</td>\n",
       "      <td>9</td>\n",
       "      <td>Married-civ-spouse</td>\n",
       "      <td>Exec-managerial</td>\n",
       "      <td>Husband</td>\n",
       "      <td>White</td>\n",
       "      <td>Male</td>\n",
       "      <td>0</td>\n",
       "      <td>0</td>\n",
       "      <td>45</td>\n",
       "      <td>United-States</td>\n",
       "      <td>&gt;50K</td>\n",
       "    </tr>\n",
       "    <tr>\n",
       "      <th>8</th>\n",
       "      <td>31</td>\n",
       "      <td>Private</td>\n",
       "      <td>45781</td>\n",
       "      <td>Masters</td>\n",
       "      <td>14</td>\n",
       "      <td>Never-married</td>\n",
       "      <td>Prof-specialty</td>\n",
       "      <td>Not-in-family</td>\n",
       "      <td>White</td>\n",
       "      <td>Female</td>\n",
       "      <td>14084</td>\n",
       "      <td>0</td>\n",
       "      <td>50</td>\n",
       "      <td>United-States</td>\n",
       "      <td>&gt;50K</td>\n",
       "    </tr>\n",
       "    <tr>\n",
       "      <th>9</th>\n",
       "      <td>42</td>\n",
       "      <td>Private</td>\n",
       "      <td>159449</td>\n",
       "      <td>Bachelors</td>\n",
       "      <td>13</td>\n",
       "      <td>Married-civ-spouse</td>\n",
       "      <td>Exec-managerial</td>\n",
       "      <td>Husband</td>\n",
       "      <td>White</td>\n",
       "      <td>Male</td>\n",
       "      <td>5178</td>\n",
       "      <td>0</td>\n",
       "      <td>40</td>\n",
       "      <td>United-States</td>\n",
       "      <td>&gt;50K</td>\n",
       "    </tr>\n",
       "    <tr>\n",
       "      <th>10</th>\n",
       "      <td>37</td>\n",
       "      <td>Private</td>\n",
       "      <td>280464</td>\n",
       "      <td>Some-college</td>\n",
       "      <td>10</td>\n",
       "      <td>Married-civ-spouse</td>\n",
       "      <td>Exec-managerial</td>\n",
       "      <td>Husband</td>\n",
       "      <td>Black</td>\n",
       "      <td>Male</td>\n",
       "      <td>0</td>\n",
       "      <td>0</td>\n",
       "      <td>80</td>\n",
       "      <td>United-States</td>\n",
       "      <td>&gt;50K</td>\n",
       "    </tr>\n",
       "    <tr>\n",
       "      <th>11</th>\n",
       "      <td>30</td>\n",
       "      <td>State-gov</td>\n",
       "      <td>141297</td>\n",
       "      <td>Bachelors</td>\n",
       "      <td>13</td>\n",
       "      <td>Married-civ-spouse</td>\n",
       "      <td>Prof-specialty</td>\n",
       "      <td>Husband</td>\n",
       "      <td>Asian-Pac-Islander</td>\n",
       "      <td>Male</td>\n",
       "      <td>0</td>\n",
       "      <td>0</td>\n",
       "      <td>40</td>\n",
       "      <td>India</td>\n",
       "      <td>&gt;50K</td>\n",
       "    </tr>\n",
       "    <tr>\n",
       "      <th>12</th>\n",
       "      <td>23</td>\n",
       "      <td>Private</td>\n",
       "      <td>122272</td>\n",
       "      <td>Bachelors</td>\n",
       "      <td>13</td>\n",
       "      <td>Never-married</td>\n",
       "      <td>Adm-clerical</td>\n",
       "      <td>Own-child</td>\n",
       "      <td>White</td>\n",
       "      <td>Female</td>\n",
       "      <td>0</td>\n",
       "      <td>0</td>\n",
       "      <td>30</td>\n",
       "      <td>United-States</td>\n",
       "      <td>&lt;=50K</td>\n",
       "    </tr>\n",
       "    <tr>\n",
       "      <th>13</th>\n",
       "      <td>32</td>\n",
       "      <td>Private</td>\n",
       "      <td>205019</td>\n",
       "      <td>Assoc-acdm</td>\n",
       "      <td>12</td>\n",
       "      <td>Never-married</td>\n",
       "      <td>Sales</td>\n",
       "      <td>Not-in-family</td>\n",
       "      <td>Black</td>\n",
       "      <td>Male</td>\n",
       "      <td>0</td>\n",
       "      <td>0</td>\n",
       "      <td>50</td>\n",
       "      <td>United-States</td>\n",
       "      <td>&lt;=50K</td>\n",
       "    </tr>\n",
       "    <tr>\n",
       "      <th>14</th>\n",
       "      <td>40</td>\n",
       "      <td>Private</td>\n",
       "      <td>121772</td>\n",
       "      <td>Assoc-voc</td>\n",
       "      <td>11</td>\n",
       "      <td>Married-civ-spouse</td>\n",
       "      <td>Craft-repair</td>\n",
       "      <td>Husband</td>\n",
       "      <td>Asian-Pac-Islander</td>\n",
       "      <td>Male</td>\n",
       "      <td>0</td>\n",
       "      <td>0</td>\n",
       "      <td>40</td>\n",
       "      <td>NaN</td>\n",
       "      <td>&gt;50K</td>\n",
       "    </tr>\n",
       "  </tbody>\n",
       "</table>\n",
       "</div>"
      ],
      "text/plain": [
       "    age         workclass  fnlwgt     education  education_num  \\\n",
       "0    39         State-gov   77516     Bachelors             13   \n",
       "1    50  Self-emp-not-inc   83311     Bachelors             13   \n",
       "2    38           Private  215646       HS-grad              9   \n",
       "3    53           Private  234721          11th              7   \n",
       "4    28           Private  338409     Bachelors             13   \n",
       "5    37           Private  284582       Masters             14   \n",
       "6    49           Private  160187           9th              5   \n",
       "7    52  Self-emp-not-inc  209642       HS-grad              9   \n",
       "8    31           Private   45781       Masters             14   \n",
       "9    42           Private  159449     Bachelors             13   \n",
       "10   37           Private  280464  Some-college             10   \n",
       "11   30         State-gov  141297     Bachelors             13   \n",
       "12   23           Private  122272     Bachelors             13   \n",
       "13   32           Private  205019    Assoc-acdm             12   \n",
       "14   40           Private  121772     Assoc-voc             11   \n",
       "\n",
       "           marital_status         occupation   relationship  \\\n",
       "0           Never-married       Adm-clerical  Not-in-family   \n",
       "1      Married-civ-spouse    Exec-managerial        Husband   \n",
       "2                Divorced  Handlers-cleaners  Not-in-family   \n",
       "3      Married-civ-spouse  Handlers-cleaners        Husband   \n",
       "4      Married-civ-spouse     Prof-specialty           Wife   \n",
       "5      Married-civ-spouse    Exec-managerial           Wife   \n",
       "6   Married-spouse-absent      Other-service  Not-in-family   \n",
       "7      Married-civ-spouse    Exec-managerial        Husband   \n",
       "8           Never-married     Prof-specialty  Not-in-family   \n",
       "9      Married-civ-spouse    Exec-managerial        Husband   \n",
       "10     Married-civ-spouse    Exec-managerial        Husband   \n",
       "11     Married-civ-spouse     Prof-specialty        Husband   \n",
       "12          Never-married       Adm-clerical      Own-child   \n",
       "13          Never-married              Sales  Not-in-family   \n",
       "14     Married-civ-spouse       Craft-repair        Husband   \n",
       "\n",
       "                  race     sex  capital_gain  capital_loss  hours_per_week  \\\n",
       "0                White    Male          2174             0              40   \n",
       "1                White    Male             0             0              13   \n",
       "2                White    Male             0             0              40   \n",
       "3                Black    Male             0             0              40   \n",
       "4                Black  Female             0             0              40   \n",
       "5                White  Female             0             0              40   \n",
       "6                Black  Female             0             0              16   \n",
       "7                White    Male             0             0              45   \n",
       "8                White  Female         14084             0              50   \n",
       "9                White    Male          5178             0              40   \n",
       "10               Black    Male             0             0              80   \n",
       "11  Asian-Pac-Islander    Male             0             0              40   \n",
       "12               White  Female             0             0              30   \n",
       "13               Black    Male             0             0              50   \n",
       "14  Asian-Pac-Islander    Male             0             0              40   \n",
       "\n",
       "   native_country income  \n",
       "0   United-States  <=50K  \n",
       "1   United-States  <=50K  \n",
       "2   United-States  <=50K  \n",
       "3   United-States  <=50K  \n",
       "4            Cuba  <=50K  \n",
       "5   United-States  <=50K  \n",
       "6         Jamaica  <=50K  \n",
       "7   United-States   >50K  \n",
       "8   United-States   >50K  \n",
       "9   United-States   >50K  \n",
       "10  United-States   >50K  \n",
       "11          India   >50K  \n",
       "12  United-States  <=50K  \n",
       "13  United-States  <=50K  \n",
       "14            NaN   >50K  "
      ]
     },
     "execution_count": 7,
     "metadata": {},
     "output_type": "execute_result"
    }
   ],
   "source": [
    "adult.head(15)"
   ]
  },
  {
   "cell_type": "markdown",
   "metadata": {},
   "source": [
    "Missing values are encoded with 'NaN'"
   ]
  },
  {
   "cell_type": "markdown",
   "metadata": {},
   "source": [
    "ii. (7 points) For each variable, calculate and report the percentage of missing data for that variable (percentage of rows)."
   ]
  },
  {
   "cell_type": "code",
   "execution_count": 8,
   "metadata": {},
   "outputs": [
    {
     "name": "stdout",
     "output_type": "stream",
     "text": [
      "age                  0\n",
      "workclass         1836\n",
      "fnlwgt               0\n",
      "education            0\n",
      "education_num        0\n",
      "marital_status       0\n",
      "occupation        1843\n",
      "relationship         0\n",
      "race                 0\n",
      "sex                  0\n",
      "capital_gain         0\n",
      "capital_loss         0\n",
      "hours_per_week       0\n",
      "native_country     583\n",
      "income               0\n",
      "dtype: int64\n"
     ]
    }
   ],
   "source": [
    "print (adult.isnull().sum())\n"
   ]
  },
  {
   "cell_type": "code",
   "execution_count": 9,
   "metadata": {
    "tags": []
   },
   "outputs": [
    {
     "data": {
      "text/plain": [
       "age               0.000000\n",
       "workclass         5.638647\n",
       "fnlwgt            0.000000\n",
       "education         0.000000\n",
       "education_num     0.000000\n",
       "marital_status    0.000000\n",
       "occupation        5.660146\n",
       "relationship      0.000000\n",
       "race              0.000000\n",
       "sex               0.000000\n",
       "capital_gain      0.000000\n",
       "capital_loss      0.000000\n",
       "hours_per_week    0.000000\n",
       "native_country    1.790486\n",
       "income            0.000000\n",
       "dtype: float64"
      ]
     },
     "execution_count": 9,
     "metadata": {},
     "output_type": "execute_result"
    }
   ],
   "source": [
    "# Create a Data.Series that has the percentage of missing data for each \n",
    "#  attribute in the data set.\n",
    "missing_values = ((adult.isnull().sum().values)/ len(adult)) * 100\n",
    "miss_data = pd.Series(missing_values, index = adult.isnull().sum().index)\n",
    "\n",
    "miss_data"
   ]
  },
  {
   "cell_type": "code",
   "execution_count": 10,
   "metadata": {
    "deletable": false,
    "editable": false
   },
   "outputs": [
    {
     "data": {
      "text/html": [
       "<p><strong><pre style='display: inline;'>q1c</pre></strong> passed! 🚀</p>"
      ],
      "text/plain": [
       "q1c results: All test cases passed!"
      ]
     },
     "execution_count": 10,
     "metadata": {},
     "output_type": "execute_result"
    }
   ],
   "source": [
    "grader.check(\"q1c\")"
   ]
  },
  {
   "cell_type": "markdown",
   "metadata": {},
   "source": [
    "## Q2 - Data Preprocessing \n",
    "\n",
    "You are asked to write two functions `minmaxNorm` and `zscoreNorm` to perform normalization on passed in data. Do not just use preprocessing or normalization functions available in R or Python.\n",
    "\n",
    "The function `minmaxNorm` should take four arguments\n",
    "* `trData` - the training data (use to establish the data properties for normalization)\n",
    "* `teData` - the testing data, (if supplied default: None), to also be normalized according the the same data properties\n",
    "* `minV` - minimum value of new range (default: 0)\n",
    "* `maxV` - maximum value of new range (default: 1)\n",
    "\n",
    "The function `zscoreNorm` should take three arguments\n",
    "* `trData` - the training data (use to establish the data properties for normalization)\n",
    "* `teData` - the testing data, (if supplied default: None), to also be normalized according the the same data properties\n",
    "* `madFlag` - boolean flag, if positive, use mean abs. deviation instead of standard deviation. (default: False)\n",
    "\n",
    "For many of our tasks, the data is split into subsets (by sample) of training and testing data (see slides: 03.classify.part2). The training data is used to estimate the parameters needed in the transformation: for `zscoreNorm`, μ - mean and σ - standard deviation for each attribute; for `minmaxNorm`, min and max values for each attribute.\n",
    "\n",
    "Both the training and testing data (if passed in) are to be transformed using the parameters from the training data and passed into the function. If the input is 2D a matrix/data frame/etc., then be sure to scale each feature (column) separately.\n",
    "\n",
    "In R, the functions should work on vectors, matrices (1D and 2D) and data frames.\n",
    "\n",
    "In Python, the functions should work on lists, np.arrays (1D and 2D), and data frames (see sample inputs below). \n",
    "\n",
    "The functions should return a tuple-Python of the transformed training data and transformed testing data.  In Python, each item of the tuple should be a numpy array.  If no test data is included as input return None for this item of the tuple. \n",
    "\n",
    "A few example test cases are supplied with more tested.\n",
    "\n",
    "*Hint:* \n",
    "I suggest taking the input training/testing data and converting to the same type, e.g., numpy arrays.  Then, do the normalization calculations on this single type of data object.  \n"
   ]
  },
  {
   "cell_type": "code",
   "execution_count": 11,
   "metadata": {},
   "outputs": [
    {
     "name": "stdout",
     "output_type": "stream",
     "text": [
      "[0 1 2 5]\n",
      "(array([0. , 0.2, 0.4, 1. ]), None)\n",
      "[0 1 2 4 8]\n",
      "(array([-1.  , -0.75, -0.5 ,  0.  ,  1.  ]), None)\n",
      "[[1 3 4 5]\n",
      " [2 6 5 8]\n",
      " [3 4 6 9]]\n",
      "(array([[-1.        , -1.        , -1.        , -1.        ],\n",
      "       [ 0.        ,  1.        ,  0.        ,  0.5       ],\n",
      "       [ 1.        , -0.33333333,  1.        ,  1.        ]]), array([ 0.5       ,  0.33333333, -1.        ,  0.        ]))\n",
      "[[1 3 4 5]\n",
      " [2 6 5 8]\n",
      " [3 4 6 9]]\n",
      "(array([[ 0.        ,  0.        ,  0.        ,  0.        ],\n",
      "       [ 5.        , 10.        ,  5.        ,  7.5       ],\n",
      "       [10.        ,  3.33333333, 10.        , 10.        ]]), array([7.5       , 6.66666667, 0.        , 5.        ]))\n"
     ]
    }
   ],
   "source": [
    "def minmaxNorm(trData, teData=None, minV=0, maxV=1):\n",
    "    # Perform min-max normalization on trData and teData\n",
    "    # return a tuple of the transformed data\n",
    "    trData = np.array(trData)\n",
    "    teData = np.array(teData)\n",
    "    res1 = []\n",
    "    res2 = []\n",
    "    print(trData)\n",
    "    res1 = ((((trData - np.min(trData, axis = 0)) / \n",
    "              (np.max(trData,axis = 0) - np.min(trData, axis = 0))) \n",
    "               * (maxV - minV)) + minV)\n",
    "\n",
    "    if teData.ndim == 0:\n",
    "        res2 = None \n",
    "    else:\n",
    "        res2 = ((((teData - np.min(trData, axis = 0)) /\n",
    "                  (np.max(trData,axis = 0) - np.min(trData, axis = 0))) \n",
    "                   * (maxV - minV)) + minV)\n",
    "    \n",
    "    return (res1,res2)\n",
    "\n",
    "\n",
    "in1 = [0, 1, 2, 5]\n",
    "out1 = minmaxNorm(in1, None)\n",
    "print(out1)\n",
    "\n",
    "in2 = np.array([0, 1, 2, 4, 8])\n",
    "out2 = minmaxNorm(in2, None, -1, 1)\n",
    "print(out2)\n",
    "\n",
    "\n",
    "in3 = np.array([[1, 3, 4, 5], [2, 6, 5, 8], [3, 4, 6, 9]])\n",
    "in3test = np.array([2.5, 5, 4, 7])\n",
    "out3 = minmaxNorm(in3, in3test, -1, 1)\n",
    "print(out3)\n",
    "\n",
    "\n",
    "in4 = pd.DataFrame([[1, 3, 4, 5], [2, 6, 5, 8],\n",
    "                    [3, 4, 6, 9]])\n",
    "out4 = minmaxNorm(in4, in3test, 0, 10)\n",
    "print(out4)"
   ]
  },
  {
   "cell_type": "code",
   "execution_count": 12,
   "metadata": {},
   "outputs": [
    {
     "data": {
      "text/plain": [
       "5.0"
      ]
     },
     "execution_count": 12,
     "metadata": {},
     "output_type": "execute_result"
    }
   ],
   "source": [
    "out4[1][3]"
   ]
  },
  {
   "cell_type": "code",
   "execution_count": 13,
   "metadata": {},
   "outputs": [],
   "source": [
    "def zscoreNorm(trData, teData=None, madFlag=0):\n",
    "    # Perform Gaussian normalization on trData and teData\n",
    "    # return a tuple of the transformed ;-9data\n",
    "    trData = np.array(trData)\n",
    "    teData = np.array(teData)\n",
    "    res1 = []\n",
    "    res2 = []\n",
    "    \n",
    "    if madFlag == 0:\n",
    "        res1 = ((trData - np.mean(trData, axis = 0))/ np.std(trData, axis = 0))        \n",
    "    else:\n",
    "        res1 = ((trData - np.mean(trData, axis = 0))/ np.mean(np.abs(trData - np.mean(trData))))\n",
    "           \n",
    "\n",
    "    if teData.ndim == 0:\n",
    "        res2 = None \n",
    "    else:\n",
    "        if madFlag == 0:\n",
    "            res2 = ((teData - np.mean(trData, axis = 0))/ np.std(trData, axis = 0))        \n",
    "        else:\n",
    "            res2 = ((teData - np.mean(trData, axis = 0))/ np.mean(np.abs(trData - np.mean(trData))))\n",
    "    \n",
    "    \n",
    "    return (res1,res2)"
   ]
  },
  {
   "cell_type": "code",
   "execution_count": 14,
   "metadata": {},
   "outputs": [
    {
     "data": {
      "text/plain": [
       "(array([[-0.42857143, -1.42857143,  0.14285714, -1.28571429],\n",
       "        [ 0.        , -0.14285714, -0.71428571,  0.42857143],\n",
       "        [ 0.42857143,  1.57142857,  0.57142857,  0.85714286]]),\n",
       " array([[-0.42857143, -1.42857143, -0.28571429, -0.85714286],\n",
       "        [ 0.42857143, -1.85714286,  0.14285714, -0.42857143]]))"
      ]
     },
     "execution_count": 14,
     "metadata": {},
     "output_type": "execute_result"
    }
   ],
   "source": [
    "in3 = np.array([[1, 3, 5, 4], [2, 6, 3, 8], [3, 10, 6, 9]])\n",
    "out14 = zscoreNorm(in3, np.array([[1, 3, 4, 5],  [3, 2, 5, 6]]), madFlag=1)\n",
    "out14"
   ]
  },
  {
   "cell_type": "code",
   "execution_count": 15,
   "metadata": {
    "deletable": false,
    "editable": false
   },
   "outputs": [
    {
     "data": {
      "text/html": [
       "<p><strong style='color: red;'><pre style='display: inline;'>q2</pre> results:</strong></p><p><strong><pre style='display: inline;'>q2 - 1</pre> result:</strong></p><pre>    ❌ Test case failed\n",
       "    Trying:\n",
       "        in1 = [0, 1, 2, 5]\n",
       "    Expecting nothing\n",
       "    ok\n",
       "    Trying:\n",
       "        out1 = minmaxNorm(in1, teData=None, minV=0, maxV=1)\n",
       "    Expecting nothing\n",
       "    **********************************************************************\n",
       "    Line 2, in q2 0\n",
       "    Failed example:\n",
       "        out1 = minmaxNorm(in1, teData=None, minV=0, maxV=1)\n",
       "    Expected nothing\n",
       "    Got:\n",
       "        [0 1 2 5]\n",
       "    Trying:\n",
       "        np.isclose(out1[0][0], 0.0) & np.isclose(out1[0][1], 0.2) & \\\n",
       "        np.isclose(out1[0][2], 0.4) & np.isclose(out1[0][3], 1.) & \\\n",
       "        (out1[1] == None)\n",
       "    Expecting:\n",
       "        True\n",
       "    ok\n",
       "</pre><p><strong><pre style='display: inline;'>q2 - 2</pre> result:</strong></p><pre>    ❌ Test case failed\n",
       "    Trying:\n",
       "        out2 = minmaxNorm(in1, teData=[2.5, -1, 3], minV=-1, maxV=1)\n",
       "    Expecting nothing\n",
       "    **********************************************************************\n",
       "    Line 1, in q2 1\n",
       "    Failed example:\n",
       "        out2 = minmaxNorm(in1, teData=[2.5, -1, 3], minV=-1, maxV=1)\n",
       "    Expected nothing\n",
       "    Got:\n",
       "        [0 1 2 5]\n",
       "    Trying:\n",
       "        np.isclose(out2[0][0], -1.0) & np.isclose(out2[0][1], -0.6) & \\\n",
       "        np.isclose(out2[0][2], -0.2) & np.isclose(out2[0][3], 1.) & \\\n",
       "        np.isclose(out2[1][0], 0.0) & np.isclose(out2[1][1], -1.4) & \\\n",
       "        np.isclose(out2[1][2], 0.2)\n",
       "    Expecting:\n",
       "        True\n",
       "    ok\n",
       "</pre><p><strong><pre style='display: inline;'>q2 - 3</pre> result:</strong></p><pre>    ✅ Test case passed</pre><p><strong><pre style='display: inline;'>q2 - 4</pre> result:</strong></p><pre>    ✅ Test case passed</pre><p><strong><pre style='display: inline;'>q2 - 5</pre> result:</strong></p><pre>    ❌ Test case failed\n",
       "    Trying:\n",
       "        in2 = np.array([0, 1, 2, 4, 8])\n",
       "    Expecting nothing\n",
       "    ok\n",
       "    Trying:\n",
       "        out5 = minmaxNorm(in2, None) \n",
       "    Expecting nothing\n",
       "    **********************************************************************\n",
       "    Line 2, in q2 4\n",
       "    Failed example:\n",
       "        out5 = minmaxNorm(in2, None) \n",
       "    Expected nothing\n",
       "    Got:\n",
       "        [0 1 2 4 8]\n",
       "    Trying:\n",
       "        np.allclose(out5[0], np.array([0., 0.125, 0.25, 0.5, 1.]))\n",
       "    Expecting:\n",
       "        True\n",
       "    ok\n",
       "</pre><p><strong><pre style='display: inline;'>q2 - 6</pre> result:</strong></p><pre>    ✅ Test case passed</pre><p><strong><pre style='display: inline;'>q2 - 7</pre> result:</strong></p><pre>    ❌ Test case failed\n",
       "    Trying:\n",
       "        out7 = minmaxNorm(in2, np.array([-1, 3, 5, 9]), -1, 1)\n",
       "    Expecting nothing\n",
       "    **********************************************************************\n",
       "    Line 1, in q2 6\n",
       "    Failed example:\n",
       "        out7 = minmaxNorm(in2, np.array([-1, 3, 5, 9]), -1, 1)\n",
       "    Expected nothing\n",
       "    Got:\n",
       "        [0 1 2 4 8]\n",
       "    Trying:\n",
       "        np.allclose(out7[0], np.array([-1.  , -0.75, -0.5 ,  0.  ,  1.  ])) & \\\n",
       "        np.allclose(out7[1], np.array([-1.25, -0.25,  0.25,  1.25]))\n",
       "    Expecting:\n",
       "        True\n",
       "    ok\n",
       "</pre><p><strong><pre style='display: inline;'>q2 - 8</pre> result:</strong></p><pre>    ✅ Test case passed</pre><p><strong><pre style='display: inline;'>q2 - 9</pre> result:</strong></p><pre>    ❌ Test case failed\n",
       "    Trying:\n",
       "        in3 = np.array([[1, 3, 5, 4], [2, 6, 3, 8], [3, 10, 6, 9]])\n",
       "    Expecting nothing\n",
       "    ok\n",
       "    Trying:\n",
       "        out9 = minmaxNorm(in3, None)\n",
       "    Expecting nothing\n",
       "    **********************************************************************\n",
       "    Line 2, in q2 8\n",
       "    Failed example:\n",
       "        out9 = minmaxNorm(in3, None)\n",
       "    Expected nothing\n",
       "    Got:\n",
       "        [[ 1  3  5  4]\n",
       "         [ 2  6  3  8]\n",
       "         [ 3 10  6  9]]\n",
       "    Trying:\n",
       "        np.allclose(out9[0], \n",
       "                    np.array([[0.        , 0.        , 0.66666667, 0.        ],\n",
       "                              [0.5       , 0.42857143, 0.        , 0.8       ],\n",
       "                              [1.        , 1.        , 1.        , 1.        ]]))\n",
       "    Expecting:\n",
       "        True\n",
       "    ok\n",
       "</pre><p><strong><pre style='display: inline;'>q2 - 10</pre> result:</strong></p><pre>    ✅ Test case passed</pre><p><strong><pre style='display: inline;'>q2 - 11</pre> result:</strong></p><pre>    ✅ Test case passed</pre><p><strong><pre style='display: inline;'>q2 - 12</pre> result:</strong></p><pre>    ✅ Test case passed</pre><p><strong><pre style='display: inline;'>q2 - 13</pre> result:</strong></p><pre>    ❌ Test case failed\n",
       "    Trying:\n",
       "        in4 = pd.DataFrame([[1, 3, 4, 5], [2, 6, 5, 8], [3, 4, 6, 9]])\n",
       "    Expecting nothing\n",
       "    ok\n",
       "    Trying:\n",
       "        in5 = pd.DataFrame([[2, 3, 6, 7], [4, 3, 8, 5]])\n",
       "    Expecting nothing\n",
       "    ok\n",
       "    Trying:\n",
       "        out15 = minmaxNorm(in4, None)\n",
       "    Expecting nothing\n",
       "    **********************************************************************\n",
       "    Line 3, in q2 12\n",
       "    Failed example:\n",
       "        out15 = minmaxNorm(in4, None)\n",
       "    Expected nothing\n",
       "    Got:\n",
       "        [[1 3 4 5]\n",
       "         [2 6 5 8]\n",
       "         [3 4 6 9]]\n",
       "    Trying:\n",
       "        np.allclose(out15[0], \n",
       "                    np.array([[0.        , 0.        , 0.        , 0.        ],\n",
       "                            [0.5       , 1.        , 0.5       , 0.75      ],\n",
       "                            [1.        , 0.33333333, 1.        , 1.        ]])) & \\\n",
       "        (out15[1] == None)\n",
       "    Expecting:\n",
       "        True\n",
       "    ok\n",
       "</pre><p><strong><pre style='display: inline;'>q2 - 14</pre> result:</strong></p><pre>    ✅ Test case passed</pre>"
      ],
      "text/plain": [
       "q2 results:\n",
       "    q2 - 1 result:\n",
       "        ❌ Test case failed\n",
       "        Trying:\n",
       "            in1 = [0, 1, 2, 5]\n",
       "        Expecting nothing\n",
       "        ok\n",
       "        Trying:\n",
       "            out1 = minmaxNorm(in1, teData=None, minV=0, maxV=1)\n",
       "        Expecting nothing\n",
       "        **********************************************************************\n",
       "        Line 2, in q2 0\n",
       "        Failed example:\n",
       "            out1 = minmaxNorm(in1, teData=None, minV=0, maxV=1)\n",
       "        Expected nothing\n",
       "        Got:\n",
       "            [0 1 2 5]\n",
       "        Trying:\n",
       "            np.isclose(out1[0][0], 0.0) & np.isclose(out1[0][1], 0.2) & \\\n",
       "            np.isclose(out1[0][2], 0.4) & np.isclose(out1[0][3], 1.) & \\\n",
       "            (out1[1] == None)\n",
       "        Expecting:\n",
       "            True\n",
       "        ok\n",
       "\n",
       "    q2 - 2 result:\n",
       "        ❌ Test case failed\n",
       "        Trying:\n",
       "            out2 = minmaxNorm(in1, teData=[2.5, -1, 3], minV=-1, maxV=1)\n",
       "        Expecting nothing\n",
       "        **********************************************************************\n",
       "        Line 1, in q2 1\n",
       "        Failed example:\n",
       "            out2 = minmaxNorm(in1, teData=[2.5, -1, 3], minV=-1, maxV=1)\n",
       "        Expected nothing\n",
       "        Got:\n",
       "            [0 1 2 5]\n",
       "        Trying:\n",
       "            np.isclose(out2[0][0], -1.0) & np.isclose(out2[0][1], -0.6) & \\\n",
       "            np.isclose(out2[0][2], -0.2) & np.isclose(out2[0][3], 1.) & \\\n",
       "            np.isclose(out2[1][0], 0.0) & np.isclose(out2[1][1], -1.4) & \\\n",
       "            np.isclose(out2[1][2], 0.2)\n",
       "        Expecting:\n",
       "            True\n",
       "        ok\n",
       "\n",
       "    q2 - 3 result:\n",
       "        ✅ Test case passed\n",
       "\n",
       "    q2 - 4 result:\n",
       "        ✅ Test case passed\n",
       "\n",
       "    q2 - 5 result:\n",
       "        ❌ Test case failed\n",
       "        Trying:\n",
       "            in2 = np.array([0, 1, 2, 4, 8])\n",
       "        Expecting nothing\n",
       "        ok\n",
       "        Trying:\n",
       "            out5 = minmaxNorm(in2, None) \n",
       "        Expecting nothing\n",
       "        **********************************************************************\n",
       "        Line 2, in q2 4\n",
       "        Failed example:\n",
       "            out5 = minmaxNorm(in2, None) \n",
       "        Expected nothing\n",
       "        Got:\n",
       "            [0 1 2 4 8]\n",
       "        Trying:\n",
       "            np.allclose(out5[0], np.array([0., 0.125, 0.25, 0.5, 1.]))\n",
       "        Expecting:\n",
       "            True\n",
       "        ok\n",
       "\n",
       "    q2 - 6 result:\n",
       "        ✅ Test case passed\n",
       "\n",
       "    q2 - 7 result:\n",
       "        ❌ Test case failed\n",
       "        Trying:\n",
       "            out7 = minmaxNorm(in2, np.array([-1, 3, 5, 9]), -1, 1)\n",
       "        Expecting nothing\n",
       "        **********************************************************************\n",
       "        Line 1, in q2 6\n",
       "        Failed example:\n",
       "            out7 = minmaxNorm(in2, np.array([-1, 3, 5, 9]), -1, 1)\n",
       "        Expected nothing\n",
       "        Got:\n",
       "            [0 1 2 4 8]\n",
       "        Trying:\n",
       "            np.allclose(out7[0], np.array([-1.  , -0.75, -0.5 ,  0.  ,  1.  ])) & \\\n",
       "            np.allclose(out7[1], np.array([-1.25, -0.25,  0.25,  1.25]))\n",
       "        Expecting:\n",
       "            True\n",
       "        ok\n",
       "\n",
       "    q2 - 8 result:\n",
       "        ✅ Test case passed\n",
       "\n",
       "    q2 - 9 result:\n",
       "        ❌ Test case failed\n",
       "        Trying:\n",
       "            in3 = np.array([[1, 3, 5, 4], [2, 6, 3, 8], [3, 10, 6, 9]])\n",
       "        Expecting nothing\n",
       "        ok\n",
       "        Trying:\n",
       "            out9 = minmaxNorm(in3, None)\n",
       "        Expecting nothing\n",
       "        **********************************************************************\n",
       "        Line 2, in q2 8\n",
       "        Failed example:\n",
       "            out9 = minmaxNorm(in3, None)\n",
       "        Expected nothing\n",
       "        Got:\n",
       "            [[ 1  3  5  4]\n",
       "             [ 2  6  3  8]\n",
       "             [ 3 10  6  9]]\n",
       "        Trying:\n",
       "            np.allclose(out9[0], \n",
       "                        np.array([[0.        , 0.        , 0.66666667, 0.        ],\n",
       "                                  [0.5       , 0.42857143, 0.        , 0.8       ],\n",
       "                                  [1.        , 1.        , 1.        , 1.        ]]))\n",
       "        Expecting:\n",
       "            True\n",
       "        ok\n",
       "\n",
       "    q2 - 10 result:\n",
       "        ✅ Test case passed\n",
       "\n",
       "    q2 - 11 result:\n",
       "        ✅ Test case passed\n",
       "\n",
       "    q2 - 12 result:\n",
       "        ✅ Test case passed\n",
       "\n",
       "    q2 - 13 result:\n",
       "        ❌ Test case failed\n",
       "        Trying:\n",
       "            in4 = pd.DataFrame([[1, 3, 4, 5], [2, 6, 5, 8], [3, 4, 6, 9]])\n",
       "        Expecting nothing\n",
       "        ok\n",
       "        Trying:\n",
       "            in5 = pd.DataFrame([[2, 3, 6, 7], [4, 3, 8, 5]])\n",
       "        Expecting nothing\n",
       "        ok\n",
       "        Trying:\n",
       "            out15 = minmaxNorm(in4, None)\n",
       "        Expecting nothing\n",
       "        **********************************************************************\n",
       "        Line 3, in q2 12\n",
       "        Failed example:\n",
       "            out15 = minmaxNorm(in4, None)\n",
       "        Expected nothing\n",
       "        Got:\n",
       "            [[1 3 4 5]\n",
       "             [2 6 5 8]\n",
       "             [3 4 6 9]]\n",
       "        Trying:\n",
       "            np.allclose(out15[0], \n",
       "                        np.array([[0.        , 0.        , 0.        , 0.        ],\n",
       "                                [0.5       , 1.        , 0.5       , 0.75      ],\n",
       "                                [1.        , 0.33333333, 1.        , 1.        ]])) & \\\n",
       "            (out15[1] == None)\n",
       "        Expecting:\n",
       "            True\n",
       "        ok\n",
       "\n",
       "    q2 - 14 result:\n",
       "        ✅ Test case passed"
      ]
     },
     "execution_count": 15,
     "metadata": {},
     "output_type": "execute_result"
    }
   ],
   "source": [
    "grader.check(\"q2\")"
   ]
  },
  {
   "cell_type": "code",
   "execution_count": 16,
   "metadata": {},
   "outputs": [
    {
     "data": {
      "text/plain": [
       "(array([[-0.42857143, -1.42857143,  0.14285714, -1.28571429],\n",
       "        [ 0.        , -0.14285714, -0.71428571,  0.42857143],\n",
       "        [ 0.42857143,  1.57142857,  0.57142857,  0.85714286]]),\n",
       " array([[-0.42857143, -1.42857143, -0.28571429, -0.85714286],\n",
       "        [ 0.42857143, -1.85714286,  0.14285714, -0.42857143]]))"
      ]
     },
     "execution_count": 16,
     "metadata": {},
     "output_type": "execute_result"
    }
   ],
   "source": [
    "in3 = np.array([[1, 3, 5, 4], [2, 6, 3, 8], [3, 10, 6, 9]])\n",
    "out14 = zscoreNorm(in3, np.array([[1, 3, 4, 5],  [3, 2, 5, 6]]), madFlag=1)\n",
    "out14\n"
   ]
  },
  {
   "cell_type": "markdown",
   "metadata": {},
   "source": [
    "## Q3 - Data Preprocessing\n",
    "\n",
    "Let's now compare the normalization functions that you wrote above to using the normalization functions that are available in standard libraries: \n",
    "\n",
    "* Python: `MinMaxScaler` and `StandardScaler` or scale in `sklearn.preprocessing`\n",
    "* R: `scale` and `preProcess`, `predict` from `caret`"
   ]
  },
  {
   "cell_type": "code",
   "execution_count": 17,
   "metadata": {
    "tags": []
   },
   "outputs": [
    {
     "name": "stdout",
     "output_type": "stream",
     "text": [
      "[[ 20 -10]\n",
      " [ 37  -8]\n",
      " [ 40  52]\n",
      " [ 60   3]\n",
      " [ 85  18]\n",
      " [120  23]]\n",
      "(array([[0.        , 0.        ],\n",
      "       [0.17      , 0.03225806],\n",
      "       [0.2       , 1.        ],\n",
      "       [0.4       , 0.20967742],\n",
      "       [0.65      , 0.4516129 ],\n",
      "       [1.        , 0.53225806]]), None)\n",
      "(array([[-1.20221086, -1.08103207],\n",
      "       [-0.69549389, -0.98702928],\n",
      "       [-0.60607324,  1.83305438],\n",
      "       [-0.00993563, -0.47001394],\n",
      "       [ 0.7352364 ,  0.23500697],\n",
      "       [ 1.77847723,  0.47001394]]), None)\n",
      "[[0.         0.        ]\n",
      " [0.17       0.03225806]\n",
      " [0.2        1.        ]\n",
      " [0.4        0.20967742]\n",
      " [0.65       0.4516129 ]\n",
      " [1.         0.53225806]]\n",
      "[[-1.20221086 -1.08103207]\n",
      " [-0.69549389 -0.98702928]\n",
      " [-0.60607324  1.83305438]\n",
      " [-0.00993563 -0.47001394]\n",
      " [ 0.7352364   0.23500697]\n",
      " [ 1.77847723  0.47001394]]\n"
     ]
    }
   ],
   "source": [
    "# test data \n",
    "q3in = pd.DataFrame({'x': [20, 37, 40, 60, 85, 120], 'y': [-10, -8, 52, 3, 18, 23]})\n",
    "\n",
    "q3outA = minmaxNorm(q3in, None)\n",
    "print(q3outA)\n",
    "\n",
    "q3outB = zscoreNorm(q3in, None)\n",
    "print(q3outB)\n",
    "\n",
    "# use MinMaxScaler with default range parameters\n",
    "scaler = preprocessing.MinMaxScaler(feature_range=(0, 1)).fit(q3in)\n",
    "q3outC = scaler.transform(q3in)\n",
    "print(q3outC)\n",
    "\n",
    "# use StandardScaler\n",
    "scaler = preprocessing.StandardScaler().fit(q3in)\n",
    "q3outD = scaler.transform(q3in)\n",
    "print(q3outD) \n"
   ]
  },
  {
   "cell_type": "code",
   "execution_count": 18,
   "metadata": {
    "deletable": false,
    "editable": false
   },
   "outputs": [
    {
     "data": {
      "text/html": [
       "<p><strong><pre style='display: inline;'>q3</pre></strong> passed! 🚀</p>"
      ],
      "text/plain": [
       "q3 results: All test cases passed!"
      ]
     },
     "execution_count": 18,
     "metadata": {},
     "output_type": "execute_result"
    }
   ],
   "source": [
    "grader.check(\"q3\")"
   ]
  },
  {
   "cell_type": "markdown",
   "metadata": {},
   "source": [
    "## Q4 - Data Distances \n",
    "\n",
    "Consider the following training data set of with 5 samples and 3 variables:\n",
    "\n",
    "|  | A | B | C | \n",
    "|--|---|---|---|\n",
    "| x1 | 1.4 | 1.3 | 2.9 |\n",
    "| x2 | 1.8 | 1.1 | 3.2 | \n",
    "| x3 | 1.3 | 1.2 | 2.8 | \n",
    "| x4 | 0.8 | 3.3 | 3.1 | \n",
    "| x5 | 1.5 | 2.1 | 3.3 |\n",
    "\n",
    "You have a new test data point x = (1.25, 1.74, 3.01)."
   ]
  },
  {
   "cell_type": "markdown",
   "metadata": {},
   "source": [
    "### Distance functions \n",
    "\n",
    "Calculate and present the distance between the new data point and each of the points in the data set using:\n",
    "* Manhattan distance, \n",
    "* Euclidean distance, \n",
    "* Minkowski distance (λ = 3), \n",
    "* supremum distance, and \n",
    "* cosine similarity (that is, 1 - cos value).\n",
    "\n",
    "Present the results in a DataFrame, `dists`, with the rows for each data point and columns for each distance measure."
   ]
  },
  {
   "cell_type": "code",
   "execution_count": 19,
   "metadata": {
    "tags": []
   },
   "outputs": [
    {
     "ename": "ValueError",
     "evalue": "Length of values (1) does not match length of index (5)",
     "output_type": "error",
     "traceback": [
      "\u001b[1;31m---------------------------------------------------------------------------\u001b[0m",
      "\u001b[1;31mValueError\u001b[0m                                Traceback (most recent call last)",
      "\u001b[1;32m~\\AppData\\Local\\Temp\\ipykernel_11076\\1331370750.py\u001b[0m in \u001b[0;36m<module>\u001b[1;34m\u001b[0m\n\u001b[0;32m     10\u001b[0m \u001b[1;31m# try to avoid looping through the data and instead use matrix operations\u001b[0m\u001b[1;33m\u001b[0m\u001b[1;33m\u001b[0m\u001b[0m\n\u001b[0;32m     11\u001b[0m \u001b[1;33m\u001b[0m\u001b[0m\n\u001b[1;32m---> 12\u001b[1;33m \u001b[0mdists\u001b[0m \u001b[1;33m=\u001b[0m \u001b[0mdists\u001b[0m\u001b[1;33m.\u001b[0m\u001b[0mappend\u001b[0m\u001b[1;33m(\u001b[0m\u001b[0mpd\u001b[0m\u001b[1;33m.\u001b[0m\u001b[0mSeries\u001b[0m\u001b[1;33m(\u001b[0m\u001b[0mq4x\u001b[0m\u001b[1;33m,\u001b[0m \u001b[0mindex\u001b[0m\u001b[1;33m=\u001b[0m\u001b[1;33m[\u001b[0m\u001b[1;34m\"x1\"\u001b[0m\u001b[1;33m,\u001b[0m \u001b[1;34m\"x2\"\u001b[0m\u001b[1;33m,\u001b[0m \u001b[1;34m\"x3\"\u001b[0m\u001b[1;33m,\u001b[0m \u001b[1;34m\"x4\"\u001b[0m\u001b[1;33m,\u001b[0m \u001b[1;34m\"x5\"\u001b[0m\u001b[1;33m]\u001b[0m\u001b[1;33m)\u001b[0m\u001b[1;33m,\u001b[0m \u001b[0mignore_index\u001b[0m\u001b[1;33m=\u001b[0m\u001b[1;32mTrue\u001b[0m\u001b[1;33m)\u001b[0m\u001b[1;33m\u001b[0m\u001b[1;33m\u001b[0m\u001b[0m\n\u001b[0m\u001b[0;32m     13\u001b[0m \u001b[1;33m\u001b[0m\u001b[0m\n\u001b[0;32m     14\u001b[0m \u001b[0mdists\u001b[0m\u001b[1;33m[\u001b[0m\u001b[1;34m'L1'\u001b[0m\u001b[1;33m]\u001b[0m \u001b[1;33m=\u001b[0m \u001b[0mpdist\u001b[0m\u001b[1;33m(\u001b[0m\u001b[0mdists\u001b[0m\u001b[1;33m,\u001b[0m \u001b[1;34m'cityblock'\u001b[0m\u001b[1;33m)\u001b[0m\u001b[1;33m\u001b[0m\u001b[1;33m\u001b[0m\u001b[0m\n",
      "\u001b[1;32m~\\anaconda3\\lib\\site-packages\\pandas\\core\\series.py\u001b[0m in \u001b[0;36m__init__\u001b[1;34m(self, data, index, dtype, name, copy, fastpath)\u001b[0m\n\u001b[0;32m    440\u001b[0m                 \u001b[0mindex\u001b[0m \u001b[1;33m=\u001b[0m \u001b[0mdefault_index\u001b[0m\u001b[1;33m(\u001b[0m\u001b[0mlen\u001b[0m\u001b[1;33m(\u001b[0m\u001b[0mdata\u001b[0m\u001b[1;33m)\u001b[0m\u001b[1;33m)\u001b[0m\u001b[1;33m\u001b[0m\u001b[1;33m\u001b[0m\u001b[0m\n\u001b[0;32m    441\u001b[0m             \u001b[1;32melif\u001b[0m \u001b[0mis_list_like\u001b[0m\u001b[1;33m(\u001b[0m\u001b[0mdata\u001b[0m\u001b[1;33m)\u001b[0m\u001b[1;33m:\u001b[0m\u001b[1;33m\u001b[0m\u001b[1;33m\u001b[0m\u001b[0m\n\u001b[1;32m--> 442\u001b[1;33m                 \u001b[0mcom\u001b[0m\u001b[1;33m.\u001b[0m\u001b[0mrequire_length_match\u001b[0m\u001b[1;33m(\u001b[0m\u001b[0mdata\u001b[0m\u001b[1;33m,\u001b[0m \u001b[0mindex\u001b[0m\u001b[1;33m)\u001b[0m\u001b[1;33m\u001b[0m\u001b[1;33m\u001b[0m\u001b[0m\n\u001b[0m\u001b[0;32m    443\u001b[0m \u001b[1;33m\u001b[0m\u001b[0m\n\u001b[0;32m    444\u001b[0m             \u001b[1;31m# create/copy the manager\u001b[0m\u001b[1;33m\u001b[0m\u001b[1;33m\u001b[0m\u001b[0m\n",
      "\u001b[1;32m~\\anaconda3\\lib\\site-packages\\pandas\\core\\common.py\u001b[0m in \u001b[0;36mrequire_length_match\u001b[1;34m(data, index)\u001b[0m\n\u001b[0;32m    555\u001b[0m     \"\"\"\n\u001b[0;32m    556\u001b[0m     \u001b[1;32mif\u001b[0m \u001b[0mlen\u001b[0m\u001b[1;33m(\u001b[0m\u001b[0mdata\u001b[0m\u001b[1;33m)\u001b[0m \u001b[1;33m!=\u001b[0m \u001b[0mlen\u001b[0m\u001b[1;33m(\u001b[0m\u001b[0mindex\u001b[0m\u001b[1;33m)\u001b[0m\u001b[1;33m:\u001b[0m\u001b[1;33m\u001b[0m\u001b[1;33m\u001b[0m\u001b[0m\n\u001b[1;32m--> 557\u001b[1;33m         raise ValueError(\n\u001b[0m\u001b[0;32m    558\u001b[0m             \u001b[1;34m\"Length of values \"\u001b[0m\u001b[1;33m\u001b[0m\u001b[1;33m\u001b[0m\u001b[0m\n\u001b[0;32m    559\u001b[0m             \u001b[1;34mf\"({len(data)}) \"\u001b[0m\u001b[1;33m\u001b[0m\u001b[1;33m\u001b[0m\u001b[0m\n",
      "\u001b[1;31mValueError\u001b[0m: Length of values (1) does not match length of index (5)"
     ]
    }
   ],
   "source": [
    "\n",
    "q4dat = np.array([[1.4, 1.3, 2.9], [1.8, 1.1, 3.2], [1.3, 1.2, 2.9],\n",
    "                [0.9, 3.3, 3.1], [1.5, 2.1, 3.3]])\n",
    "q4x = np.array([[1.25,1.74,3.01]])\n",
    "\n",
    "dists = pd.DataFrame(index=range(0,5), columns=['L1', 'L2', 'L3', 'Linf', 'Cos'])\n",
    "dists.index = [\"x1\", \"x2\", \"x3\", \"x4\", \"x5\"]\n",
    "\n",
    "# Fill in values of dists Data Frame \n",
    "# Suggest using scipy's pdist and squareform function \n",
    "# try to avoid looping through the data and instead use matrix operations\n",
    "\n",
    "dists = dists.append(pd.Series(q4x, index=[\"x1\", \"x2\", \"x3\", \"x4\", \"x5\"]), ignore_index=True)\n",
    "\n",
    "dists['L1'] = pdist(dists, 'cityblock')\n",
    "      \n",
    "\n",
    "\n",
    "\n",
    "\n",
    "dists['L1']"
   ]
  },
  {
   "cell_type": "code",
   "execution_count": null,
   "metadata": {},
   "outputs": [],
   "source": [
    "np.reshape(q4x, (5,3), order='C')"
   ]
  },
  {
   "cell_type": "code",
   "execution_count": null,
   "metadata": {
    "deletable": false,
    "editable": false
   },
   "outputs": [],
   "source": [
    "grader.check(\"q4\")"
   ]
  },
  {
   "cell_type": "markdown",
   "metadata": {},
   "source": [
    "## Q5 - Exploratory Data Analysis \n",
    "\n",
    "We will explore aspects of the census data from above. \n"
   ]
  },
  {
   "cell_type": "markdown",
   "metadata": {},
   "source": [
    "<!-- BEGIN QUESTION -->\n",
    "\n",
    "### Q5a - Visualize: Amounts: Single Variable\n",
    "\n",
    "Create a bar plot of `Education`. \n",
    "\n",
    "Use good visualization practices as discussed in class and in the [Visualization book reference](https://clauswilke.com/dataviz/). \n",
    "Make sure to label everything. "
   ]
  },
  {
   "cell_type": "code",
   "execution_count": null,
   "metadata": {
    "tags": []
   },
   "outputs": [],
   "source": [
    "# Create bar plot of education\n",
    "count = adult.groupby(['education']).size().reset_index(name='counts')\n",
    "\n",
    "plt.barh(count['education'], count['counts'])\n",
    "plt.ylabel(\"Highest education\")\n",
    "plt.xlabel(\"No. of individuals\")\n",
    "plt.title(\"Individuals with highest education pursued\")\n",
    "plt.show()\n",
    "\n",
    "\n"
   ]
  },
  {
   "cell_type": "markdown",
   "metadata": {},
   "source": [
    "<!-- END QUESTION -->\n",
    "\n",
    "<!-- BEGIN QUESTION -->\n",
    "\n",
    "### Q5b: Visualize: Amounts: Multiple Variables\n",
    "\n",
    "Create a grouped bar plot of `Marital Status` with `sex`.\n"
   ]
  },
  {
   "cell_type": "code",
   "execution_count": 40,
   "metadata": {},
   "outputs": [
    {
     "data": {
      "image/png": "[encoded data removed]",
      "text/plain": [
       "<Figure size 640x480 with 1 Axes>"
      ]
     },
     "metadata": {},
     "output_type": "display_data"
    }
   ],
   "source": [
    "grouped = adult.groupby(['marital_status', 'sex'])['fnlwgt'].count().unstack()\n",
    "grouped.plot(kind='barh', stacked=False)\n",
    "plt.xlabel('Count')\n",
    "plt.ylabel('Marital Status')\n",
    "plt.title('Marital Status by Sex')\n",
    "plt.show()\n"
   ]
  },
  {
   "cell_type": "code",
   "execution_count": 22,
   "metadata": {},
   "outputs": [
    {
     "data": {
      "image/png": "[encoded data removed]",
      "text/plain": [
       "<Figure size 640x480 with 1 Axes>"
      ]
     },
     "metadata": {},
     "output_type": "display_data"
    }
   ],
   "source": [
    "cnt = adult.groupby(['marital_status', 'sex']).size().reset_index(name='Count')\n",
    "m_count = cnt[cnt['sex'] == 'Male']['Count']\n",
    "f_count = cnt[cnt['sex'] == 'Female']['Count']\n",
    "\n",
    "width = 0.4\n",
    "\n",
    "b1 = plt.barh(cnt['marital_status'].unique(), m_count, width, color='blue', label='Male')\n",
    "b2 = plt.barh(cnt['marital_status'].unique(), f_count, width, color='orange', label='Female')\n",
    "\n",
    "plt.xlabel('Count')\n",
    "plt.ylabel('Marital Status')\n",
    "plt.title('Marital Status by Sex')\n",
    "plt.legend()\n",
    "\n",
    "plt.tight_layout()\n",
    "plt.show()\n"
   ]
  },
  {
   "cell_type": "code",
   "execution_count": 92,
   "metadata": {},
   "outputs": [
    {
     "data": {
      "text/plain": [
       "array(['Divorced', 'Married-AF-spouse', 'Married-civ-spouse',\n",
       "       'Married-spouse-absent', 'Never-married', 'Separated', 'Widowed'],\n",
       "      dtype=object)"
      ]
     },
     "execution_count": 92,
     "metadata": {},
     "output_type": "execute_result"
    }
   ],
   "source": [
    "cnt['marital_status'].unique()"
   ]
  },
  {
   "cell_type": "code",
   "execution_count": 79,
   "metadata": {},
   "outputs": [
    {
     "ename": "SyntaxError",
     "evalue": "invalid syntax (4061794833.py, line 2)",
     "output_type": "error",
     "traceback": [
      "\u001b[1;36m  File \u001b[1;32m\"C:\\Users\\pprad\\AppData\\Local\\Temp\\ipykernel_25720\\4061794833.py\"\u001b[1;36m, line \u001b[1;32m2\u001b[0m\n\u001b[1;33m    count['sex' = Female]\u001b[0m\n\u001b[1;37m                ^\u001b[0m\n\u001b[1;31mSyntaxError\u001b[0m\u001b[1;31m:\u001b[0m invalid syntax\n"
     ]
    }
   ],
   "source": [
    "data = {'Marital Status': ['Single', 'Married', 'Divorced', 'Widowed'],\n",
    "        'Male': [25, 50, 15, 10],\n",
    "        'Female': [30, 45, 20, 5]}\n",
    "df = pd.DataFrame(data)\n",
    "\n",
    "# plot the bar chart\n",
    "fig, ax = plt.subplots()\n",
    "bar_width = 0.35\n",
    "opacity = 0.8\n",
    "index = df['Marital Status']\n",
    "male_count = df['Male']\n",
    "female_count = df['Female']\n",
    "\n",
    "rects1 = plt.bar(index, male_count, bar_width, alpha=opacity, color='b', label='Male')\n",
    "rects2 = plt.bar(index, female_count, bar_width, alpha=opacity, color='g', label='Female', bottom=male_count)\n",
    "\n",
    "plt.xlabel('Marital Status')\n",
    "plt.ylabel('Count')\n",
    "plt.title('Marital Status by Sex')\n",
    "plt.xticks(index, df['Marital Status'], rotation=45)\n",
    "plt.legend()\n",
    "\n",
    "plt.tight_layout()\n",
    "plt.show()\n",
    "This will produce a grouped bar plot with the counts of each Marital Status by sex.\n",
    "\n",
    "\n",
    "\n",
    "\n"
   ]
  },
  {
   "cell_type": "code",
   "execution_count": 76,
   "metadata": {
    "tags": []
   },
   "outputs": [
    {
     "ename": "KeyError",
     "evalue": "'Sex'",
     "output_type": "error",
     "traceback": [
      "\u001b[1;31m---------------------------------------------------------------------------\u001b[0m",
      "\u001b[1;31mKeyError\u001b[0m                                  Traceback (most recent call last)",
      "\u001b[1;32m~\\anaconda3\\lib\\site-packages\\pandas\\core\\indexes\\base.py\u001b[0m in \u001b[0;36mget_loc\u001b[1;34m(self, key, method, tolerance)\u001b[0m\n\u001b[0;32m   3628\u001b[0m             \u001b[1;32mtry\u001b[0m\u001b[1;33m:\u001b[0m\u001b[1;33m\u001b[0m\u001b[1;33m\u001b[0m\u001b[0m\n\u001b[1;32m-> 3629\u001b[1;33m                 \u001b[1;32mreturn\u001b[0m \u001b[0mself\u001b[0m\u001b[1;33m.\u001b[0m\u001b[0m_engine\u001b[0m\u001b[1;33m.\u001b[0m\u001b[0mget_loc\u001b[0m\u001b[1;33m(\u001b[0m\u001b[0mcasted_key\u001b[0m\u001b[1;33m)\u001b[0m\u001b[1;33m\u001b[0m\u001b[1;33m\u001b[0m\u001b[0m\n\u001b[0m\u001b[0;32m   3630\u001b[0m             \u001b[1;32mexcept\u001b[0m \u001b[0mKeyError\u001b[0m \u001b[1;32mas\u001b[0m \u001b[0merr\u001b[0m\u001b[1;33m:\u001b[0m\u001b[1;33m\u001b[0m\u001b[1;33m\u001b[0m\u001b[0m\n",
      "\u001b[1;32m~\\anaconda3\\lib\\site-packages\\pandas\\_libs\\index.pyx\u001b[0m in \u001b[0;36mpandas._libs.index.IndexEngine.get_loc\u001b[1;34m()\u001b[0m\n",
      "\u001b[1;32m~\\anaconda3\\lib\\site-packages\\pandas\\_libs\\index.pyx\u001b[0m in \u001b[0;36mpandas._libs.index.IndexEngine.get_loc\u001b[1;34m()\u001b[0m\n",
      "\u001b[1;32mpandas\\_libs\\hashtable_class_helper.pxi\u001b[0m in \u001b[0;36mpandas._libs.hashtable.PyObjectHashTable.get_item\u001b[1;34m()\u001b[0m\n",
      "\u001b[1;32mpandas\\_libs\\hashtable_class_helper.pxi\u001b[0m in \u001b[0;36mpandas._libs.hashtable.PyObjectHashTable.get_item\u001b[1;34m()\u001b[0m\n",
      "\u001b[1;31mKeyError\u001b[0m: 'Sex'",
      "\nThe above exception was the direct cause of the following exception:\n",
      "\u001b[1;31mKeyError\u001b[0m                                  Traceback (most recent call last)",
      "\u001b[1;32m~\\AppData\\Local\\Temp\\ipykernel_25720\\3376224789.py\u001b[0m in \u001b[0;36m<module>\u001b[1;34m\u001b[0m\n\u001b[0;32m      3\u001b[0m \u001b[0mwidth\u001b[0m \u001b[1;33m=\u001b[0m \u001b[1;36m0.40\u001b[0m\u001b[1;33m\u001b[0m\u001b[1;33m\u001b[0m\u001b[0m\n\u001b[0;32m      4\u001b[0m \u001b[1;33m\u001b[0m\u001b[0m\n\u001b[1;32m----> 5\u001b[1;33m \u001b[0mb1\u001b[0m \u001b[1;33m=\u001b[0m \u001b[0mplt\u001b[0m\u001b[1;33m.\u001b[0m\u001b[0mbar\u001b[0m\u001b[1;33m(\u001b[0m\u001b[0madult\u001b[0m\u001b[1;33m[\u001b[0m\u001b[1;34m'marital_status'\u001b[0m\u001b[1;33m]\u001b[0m\u001b[1;33m,\u001b[0m \u001b[0madult\u001b[0m\u001b[1;33m[\u001b[0m\u001b[1;34m'Sex'\u001b[0m\u001b[1;33m]\u001b[0m\u001b[1;33m,\u001b[0m \u001b[0mwidth\u001b[0m\u001b[1;33m)\u001b[0m\u001b[1;33m\u001b[0m\u001b[1;33m\u001b[0m\u001b[0m\n\u001b[0m\u001b[0;32m      6\u001b[0m \u001b[0mb2\u001b[0m \u001b[1;33m=\u001b[0m \u001b[0mplt\u001b[0m\u001b[1;33m.\u001b[0m\u001b[0mbar\u001b[0m\u001b[1;33m(\u001b[0m\u001b[0madult\u001b[0m\u001b[1;33m[\u001b[0m\u001b[1;34m'marital_status'\u001b[0m\u001b[1;33m]\u001b[0m\u001b[1;33m,\u001b[0m \u001b[0madult\u001b[0m\u001b[1;33m[\u001b[0m\u001b[1;34m'Sex'\u001b[0m\u001b[1;33m]\u001b[0m\u001b[1;33m,\u001b[0m \u001b[0mwidth\u001b[0m\u001b[1;33m)\u001b[0m\u001b[1;33m\u001b[0m\u001b[1;33m\u001b[0m\u001b[0m\n\u001b[0;32m      7\u001b[0m \u001b[1;33m\u001b[0m\u001b[0m\n",
      "\u001b[1;32m~\\anaconda3\\lib\\site-packages\\pandas\\core\\frame.py\u001b[0m in \u001b[0;36m__getitem__\u001b[1;34m(self, key)\u001b[0m\n\u001b[0;32m   3503\u001b[0m             \u001b[1;32mif\u001b[0m \u001b[0mself\u001b[0m\u001b[1;33m.\u001b[0m\u001b[0mcolumns\u001b[0m\u001b[1;33m.\u001b[0m\u001b[0mnlevels\u001b[0m \u001b[1;33m>\u001b[0m \u001b[1;36m1\u001b[0m\u001b[1;33m:\u001b[0m\u001b[1;33m\u001b[0m\u001b[1;33m\u001b[0m\u001b[0m\n\u001b[0;32m   3504\u001b[0m                 \u001b[1;32mreturn\u001b[0m \u001b[0mself\u001b[0m\u001b[1;33m.\u001b[0m\u001b[0m_getitem_multilevel\u001b[0m\u001b[1;33m(\u001b[0m\u001b[0mkey\u001b[0m\u001b[1;33m)\u001b[0m\u001b[1;33m\u001b[0m\u001b[1;33m\u001b[0m\u001b[0m\n\u001b[1;32m-> 3505\u001b[1;33m             \u001b[0mindexer\u001b[0m \u001b[1;33m=\u001b[0m \u001b[0mself\u001b[0m\u001b[1;33m.\u001b[0m\u001b[0mcolumns\u001b[0m\u001b[1;33m.\u001b[0m\u001b[0mget_loc\u001b[0m\u001b[1;33m(\u001b[0m\u001b[0mkey\u001b[0m\u001b[1;33m)\u001b[0m\u001b[1;33m\u001b[0m\u001b[1;33m\u001b[0m\u001b[0m\n\u001b[0m\u001b[0;32m   3506\u001b[0m             \u001b[1;32mif\u001b[0m \u001b[0mis_integer\u001b[0m\u001b[1;33m(\u001b[0m\u001b[0mindexer\u001b[0m\u001b[1;33m)\u001b[0m\u001b[1;33m:\u001b[0m\u001b[1;33m\u001b[0m\u001b[1;33m\u001b[0m\u001b[0m\n\u001b[0;32m   3507\u001b[0m                 \u001b[0mindexer\u001b[0m \u001b[1;33m=\u001b[0m \u001b[1;33m[\u001b[0m\u001b[0mindexer\u001b[0m\u001b[1;33m]\u001b[0m\u001b[1;33m\u001b[0m\u001b[1;33m\u001b[0m\u001b[0m\n",
      "\u001b[1;32m~\\anaconda3\\lib\\site-packages\\pandas\\core\\indexes\\base.py\u001b[0m in \u001b[0;36mget_loc\u001b[1;34m(self, key, method, tolerance)\u001b[0m\n\u001b[0;32m   3629\u001b[0m                 \u001b[1;32mreturn\u001b[0m \u001b[0mself\u001b[0m\u001b[1;33m.\u001b[0m\u001b[0m_engine\u001b[0m\u001b[1;33m.\u001b[0m\u001b[0mget_loc\u001b[0m\u001b[1;33m(\u001b[0m\u001b[0mcasted_key\u001b[0m\u001b[1;33m)\u001b[0m\u001b[1;33m\u001b[0m\u001b[1;33m\u001b[0m\u001b[0m\n\u001b[0;32m   3630\u001b[0m             \u001b[1;32mexcept\u001b[0m \u001b[0mKeyError\u001b[0m \u001b[1;32mas\u001b[0m \u001b[0merr\u001b[0m\u001b[1;33m:\u001b[0m\u001b[1;33m\u001b[0m\u001b[1;33m\u001b[0m\u001b[0m\n\u001b[1;32m-> 3631\u001b[1;33m                 \u001b[1;32mraise\u001b[0m \u001b[0mKeyError\u001b[0m\u001b[1;33m(\u001b[0m\u001b[0mkey\u001b[0m\u001b[1;33m)\u001b[0m \u001b[1;32mfrom\u001b[0m \u001b[0merr\u001b[0m\u001b[1;33m\u001b[0m\u001b[1;33m\u001b[0m\u001b[0m\n\u001b[0m\u001b[0;32m   3632\u001b[0m             \u001b[1;32mexcept\u001b[0m \u001b[0mTypeError\u001b[0m\u001b[1;33m:\u001b[0m\u001b[1;33m\u001b[0m\u001b[1;33m\u001b[0m\u001b[0m\n\u001b[0;32m   3633\u001b[0m                 \u001b[1;31m# If we have a listlike key, _check_indexing_error will raise\u001b[0m\u001b[1;33m\u001b[0m\u001b[1;33m\u001b[0m\u001b[0m\n",
      "\u001b[1;31mKeyError\u001b[0m: 'Sex'"
     ]
    }
   ],
   "source": [
    "# Create plot\n",
    "\n",
    "width = 0.40\n",
    "\n",
    "count = adult.groupby(['marital_status', 'sex']).size().reset_index(name='counts')\n",
    "\n",
    "\n",
    "b1 = plt.bar(adult['marital_status'], adult['Sex'], width)\n",
    "b2 = plt.bar(adult['marital_status'], adult['Sex'], width)\n",
    "\n",
    "# add labels and legend\n",
    "plt.xlabel('Marital Status')\n",
    "plt.ylabel('Count')\n",
    "\n",
    "# show the plot\n",
    "plt.show()\n",
    "\n"
   ]
  },
  {
   "cell_type": "markdown",
   "metadata": {},
   "source": [
    "<!-- END QUESTION -->\n",
    "\n",
    "<!-- BEGIN QUESTION -->\n",
    "\n",
    "### Q5c - Visualize: Distribution: Single Attribute\n",
    "\n",
    "Generate a histogram with an appropriate number of bins to visualize the distribution of `age`."
   ]
  },
  {
   "cell_type": "code",
   "execution_count": 105,
   "metadata": {
    "tags": []
   },
   "outputs": [
    {
     "data": {
      "image/png": "[encoded data removed]",
      "text/plain": [
       "<Figure size 640x480 with 1 Axes>"
      ]
     },
     "metadata": {},
     "output_type": "display_data"
    }
   ],
   "source": [
    "# Create plot\n",
    "\n",
    "bins = 10\n",
    "# create the histogram\n",
    "plt.hist(adult['age'], bins=bins)\n",
    "\n",
    "plt.xlabel('Age')\n",
    "plt.ylabel('Frequency')\n",
    "plt.title('Histogram of Age')\n",
    "\n",
    "plt.show()\n",
    "\n"
   ]
  },
  {
   "cell_type": "markdown",
   "metadata": {},
   "source": [
    "<!-- END QUESTION -->\n",
    "\n",
    "<!-- BEGIN QUESTION -->\n",
    "\n",
    "### Q5d - Visualize: Distribution: Multiple Attributes\n",
    "\n",
    "Create an overlapping density plot for `Age` by `Income`."
   ]
  },
  {
   "cell_type": "code",
   "execution_count": 57,
   "metadata": {
    "tags": []
   },
   "outputs": [],
   "source": [
    "# Create plot\n",
    "\n",
    "\n"
   ]
  },
  {
   "cell_type": "markdown",
   "metadata": {},
   "source": [
    "<!-- END QUESTION -->\n",
    "\n"
   ]
  },
  {
   "cell_type": "markdown",
   "metadata": {
    "deletable": false,
    "editable": false
   },
   "source": [
    "## Submission\n",
    "\n",
    "Make sure you have run all cells in your notebook in order before running the cell below, so that all images/graphs appear in the output. The cell below will generate a zip file for you to submit. **Please save before exporting!**\n",
    "\n",
    "**NOTE** the submission must be run on the campus linux machines.  See the instruction in the Canvas assignment."
   ]
  },
  {
   "cell_type": "code",
   "execution_count": 58,
   "metadata": {
    "deletable": false,
    "editable": false
   },
   "outputs": [
    {
     "ename": "UnicodeDecodeError",
     "evalue": "'charmap' codec can't decode byte 0x9d in position 4123: character maps to <undefined>",
     "output_type": "error",
     "traceback": [
      "\u001b[1;31m---------------------------------------------------------------------------\u001b[0m",
      "\u001b[1;31mUnicodeDecodeError\u001b[0m                        Traceback (most recent call last)",
      "\u001b[1;32m~\\AppData\\Local\\Temp\\ipykernel_2512\\2128730768.py\u001b[0m in \u001b[0;36m<module>\u001b[1;34m\u001b[0m\n\u001b[0;32m      1\u001b[0m \u001b[1;31m# Save your notebook first, then run this cell to export your submission.\u001b[0m\u001b[1;33m\u001b[0m\u001b[1;33m\u001b[0m\u001b[0m\n\u001b[1;32m----> 2\u001b[1;33m \u001b[0mgrader\u001b[0m\u001b[1;33m.\u001b[0m\u001b[0mexport\u001b[0m\u001b[1;33m(\u001b[0m\u001b[0mfiltering\u001b[0m\u001b[1;33m=\u001b[0m\u001b[1;32mFalse\u001b[0m\u001b[1;33m,\u001b[0m \u001b[0mrun_tests\u001b[0m\u001b[1;33m=\u001b[0m\u001b[1;32mTrue\u001b[0m\u001b[1;33m)\u001b[0m\u001b[1;33m\u001b[0m\u001b[1;33m\u001b[0m\u001b[0m\n\u001b[0m",
      "\u001b[1;32m~\\anaconda3\\lib\\site-packages\\otter\\check\\utils.py\u001b[0m in \u001b[0;36mgrading_mode_disabled\u001b[1;34m(wrapped, self, args, kwargs)\u001b[0m\n\u001b[0;32m    154\u001b[0m     \u001b[1;32mif\u001b[0m \u001b[0mtype\u001b[0m\u001b[1;33m(\u001b[0m\u001b[0mself\u001b[0m\u001b[1;33m)\u001b[0m\u001b[1;33m.\u001b[0m\u001b[0m_grading_mode\u001b[0m\u001b[1;33m:\u001b[0m\u001b[1;33m\u001b[0m\u001b[1;33m\u001b[0m\u001b[0m\n\u001b[0;32m    155\u001b[0m         \u001b[1;32mreturn\u001b[0m\u001b[1;33m\u001b[0m\u001b[1;33m\u001b[0m\u001b[0m\n\u001b[1;32m--> 156\u001b[1;33m     \u001b[1;32mreturn\u001b[0m \u001b[0mwrapped\u001b[0m\u001b[1;33m(\u001b[0m\u001b[1;33m*\u001b[0m\u001b[0margs\u001b[0m\u001b[1;33m,\u001b[0m \u001b[1;33m**\u001b[0m\u001b[0mkwargs\u001b[0m\u001b[1;33m)\u001b[0m\u001b[1;33m\u001b[0m\u001b[1;33m\u001b[0m\u001b[0m\n\u001b[0m\u001b[0;32m    157\u001b[0m \u001b[1;33m\u001b[0m\u001b[0m\n\u001b[0;32m    158\u001b[0m \u001b[1;33m\u001b[0m\u001b[0m\n",
      "\u001b[1;32m~\\anaconda3\\lib\\site-packages\\otter\\check\\utils.py\u001b[0m in \u001b[0;36mincompatible\u001b[1;34m(wrapped, self, args, kwargs)\u001b[0m\n\u001b[0;32m    141\u001b[0m             \u001b[1;32melse\u001b[0m\u001b[1;33m:\u001b[0m\u001b[1;33m\u001b[0m\u001b[1;33m\u001b[0m\u001b[0m\n\u001b[0;32m    142\u001b[0m                 \u001b[1;32mreturn\u001b[0m\u001b[1;33m\u001b[0m\u001b[1;33m\u001b[0m\u001b[0m\n\u001b[1;32m--> 143\u001b[1;33m         \u001b[1;32mreturn\u001b[0m \u001b[0mwrapped\u001b[0m\u001b[1;33m(\u001b[0m\u001b[1;33m*\u001b[0m\u001b[0margs\u001b[0m\u001b[1;33m,\u001b[0m \u001b[1;33m**\u001b[0m\u001b[0mkwargs\u001b[0m\u001b[1;33m)\u001b[0m\u001b[1;33m\u001b[0m\u001b[1;33m\u001b[0m\u001b[0m\n\u001b[0m\u001b[0;32m    144\u001b[0m \u001b[1;33m\u001b[0m\u001b[0m\n\u001b[0;32m    145\u001b[0m     \u001b[1;32mreturn\u001b[0m \u001b[0mincompatible\u001b[0m\u001b[1;33m\u001b[0m\u001b[1;33m\u001b[0m\u001b[0m\n",
      "\u001b[1;32m~\\anaconda3\\lib\\site-packages\\otter\\check\\utils.py\u001b[0m in \u001b[0;36mevent_logger\u001b[1;34m(wrapped, self, args, kwargs)\u001b[0m\n\u001b[0;32m    191\u001b[0m         \u001b[1;32mexcept\u001b[0m \u001b[0mException\u001b[0m \u001b[1;32mas\u001b[0m \u001b[0me\u001b[0m\u001b[1;33m:\u001b[0m\u001b[1;33m\u001b[0m\u001b[1;33m\u001b[0m\u001b[0m\n\u001b[0;32m    192\u001b[0m             \u001b[0mself\u001b[0m\u001b[1;33m.\u001b[0m\u001b[0m_log_event\u001b[0m\u001b[1;33m(\u001b[0m\u001b[0mevent_type\u001b[0m\u001b[1;33m,\u001b[0m \u001b[0msuccess\u001b[0m\u001b[1;33m=\u001b[0m\u001b[1;32mFalse\u001b[0m\u001b[1;33m,\u001b[0m \u001b[0merror\u001b[0m\u001b[1;33m=\u001b[0m\u001b[0me\u001b[0m\u001b[1;33m)\u001b[0m\u001b[1;33m\u001b[0m\u001b[1;33m\u001b[0m\u001b[0m\n\u001b[1;32m--> 193\u001b[1;33m             \u001b[1;32mraise\u001b[0m \u001b[0me\u001b[0m\u001b[1;33m\u001b[0m\u001b[1;33m\u001b[0m\u001b[0m\n\u001b[0m\u001b[0;32m    194\u001b[0m \u001b[1;33m\u001b[0m\u001b[0m\n\u001b[0;32m    195\u001b[0m         \u001b[1;32melse\u001b[0m\u001b[1;33m:\u001b[0m\u001b[1;33m\u001b[0m\u001b[1;33m\u001b[0m\u001b[0m\n",
      "\u001b[1;32m~\\anaconda3\\lib\\site-packages\\otter\\check\\utils.py\u001b[0m in \u001b[0;36mevent_logger\u001b[1;34m(wrapped, self, args, kwargs)\u001b[0m\n\u001b[0;32m    185\u001b[0m \u001b[1;33m\u001b[0m\u001b[0m\n\u001b[0;32m    186\u001b[0m             \u001b[1;32melse\u001b[0m\u001b[1;33m:\u001b[0m\u001b[1;33m\u001b[0m\u001b[1;33m\u001b[0m\u001b[0m\n\u001b[1;32m--> 187\u001b[1;33m                 \u001b[0mresults\u001b[0m \u001b[1;33m=\u001b[0m \u001b[0mwrapped\u001b[0m\u001b[1;33m(\u001b[0m\u001b[1;33m*\u001b[0m\u001b[0margs\u001b[0m\u001b[1;33m,\u001b[0m \u001b[1;33m**\u001b[0m\u001b[0mkwargs\u001b[0m\u001b[1;33m)\u001b[0m\u001b[1;33m\u001b[0m\u001b[1;33m\u001b[0m\u001b[0m\n\u001b[0m\u001b[0;32m    188\u001b[0m                 \u001b[0mshelve_env\u001b[0m \u001b[1;33m=\u001b[0m \u001b[1;33m{\u001b[0m\u001b[1;33m}\u001b[0m\u001b[1;33m\u001b[0m\u001b[1;33m\u001b[0m\u001b[0m\n\u001b[0;32m    189\u001b[0m                 \u001b[0mquestion\u001b[0m \u001b[1;33m=\u001b[0m \u001b[1;32mNone\u001b[0m\u001b[1;33m\u001b[0m\u001b[1;33m\u001b[0m\u001b[0m\n",
      "\u001b[1;32m~\\anaconda3\\lib\\site-packages\\otter\\check\\notebook.py\u001b[0m in \u001b[0;36mexport\u001b[1;34m(self, nb_path, export_path, pdf, filtering, pagebreaks, files, display_link, force_save, run_tests)\u001b[0m\n\u001b[0;32m    378\u001b[0m \u001b[1;33m\u001b[0m\u001b[0m\n\u001b[0;32m    379\u001b[0m         \u001b[1;32mif\u001b[0m \u001b[0mpdf\u001b[0m\u001b[1;33m:\u001b[0m\u001b[1;33m\u001b[0m\u001b[1;33m\u001b[0m\u001b[0m\n\u001b[1;32m--> 380\u001b[1;33m             \u001b[0mpdf_path\u001b[0m \u001b[1;33m=\u001b[0m \u001b[0mexport_notebook\u001b[0m\u001b[1;33m(\u001b[0m\u001b[0mnb_path\u001b[0m\u001b[1;33m,\u001b[0m \u001b[0mfiltering\u001b[0m\u001b[1;33m=\u001b[0m\u001b[0mfiltering\u001b[0m\u001b[1;33m,\u001b[0m \u001b[0mpagebreaks\u001b[0m\u001b[1;33m=\u001b[0m\u001b[0mpagebreaks\u001b[0m\u001b[1;33m)\u001b[0m\u001b[1;33m\u001b[0m\u001b[1;33m\u001b[0m\u001b[0m\n\u001b[0m\u001b[0;32m    381\u001b[0m             \u001b[1;32mif\u001b[0m \u001b[0mos\u001b[0m\u001b[1;33m.\u001b[0m\u001b[0mpath\u001b[0m\u001b[1;33m.\u001b[0m\u001b[0misfile\u001b[0m\u001b[1;33m(\u001b[0m\u001b[0mpdf_path\u001b[0m\u001b[1;33m)\u001b[0m\u001b[1;33m:\u001b[0m\u001b[1;33m\u001b[0m\u001b[1;33m\u001b[0m\u001b[0m\n\u001b[0;32m    382\u001b[0m                 \u001b[0mzf\u001b[0m\u001b[1;33m.\u001b[0m\u001b[0mwrite\u001b[0m\u001b[1;33m(\u001b[0m\u001b[0mpdf_path\u001b[0m\u001b[1;33m)\u001b[0m\u001b[1;33m\u001b[0m\u001b[1;33m\u001b[0m\u001b[0m\n",
      "\u001b[1;32m~\\anaconda3\\lib\\site-packages\\otter\\export\\__init__.py\u001b[0m in \u001b[0;36mexport_notebook\u001b[1;34m(nb_path, dest, exporter_type, **kwargs)\u001b[0m\n\u001b[0;32m     40\u001b[0m \u001b[1;33m\u001b[0m\u001b[0m\n\u001b[0;32m     41\u001b[0m     \u001b[0mExporter\u001b[0m \u001b[1;33m=\u001b[0m \u001b[0mget_exporter\u001b[0m\u001b[1;33m(\u001b[0m\u001b[0mexporter_type\u001b[0m\u001b[1;33m=\u001b[0m\u001b[0mexporter_type\u001b[0m\u001b[1;33m)\u001b[0m\u001b[1;33m\u001b[0m\u001b[1;33m\u001b[0m\u001b[0m\n\u001b[1;32m---> 42\u001b[1;33m     \u001b[0mExporter\u001b[0m\u001b[1;33m.\u001b[0m\u001b[0mconvert_notebook\u001b[0m\u001b[1;33m(\u001b[0m\u001b[0mnb_path\u001b[0m\u001b[1;33m,\u001b[0m \u001b[0mpdf_name\u001b[0m\u001b[1;33m,\u001b[0m \u001b[1;33m**\u001b[0m\u001b[0mkwargs\u001b[0m\u001b[1;33m)\u001b[0m\u001b[1;33m\u001b[0m\u001b[1;33m\u001b[0m\u001b[0m\n\u001b[0m\u001b[0;32m     43\u001b[0m \u001b[1;33m\u001b[0m\u001b[0m\n\u001b[0;32m     44\u001b[0m     \u001b[1;32mreturn\u001b[0m \u001b[0mpdf_name\u001b[0m\u001b[1;33m\u001b[0m\u001b[1;33m\u001b[0m\u001b[0m\n",
      "\u001b[1;32m~\\anaconda3\\lib\\site-packages\\otter\\export\\exporters\\via_latex.py\u001b[0m in \u001b[0;36mconvert_notebook\u001b[1;34m(cls, nb_path, dest, xecjk, no_xecjk, **kwargs)\u001b[0m\n\u001b[0;32m     45\u001b[0m             \u001b[0moptions\u001b[0m\u001b[1;33m[\u001b[0m\u001b[1;34m\"template\"\u001b[0m\u001b[1;33m]\u001b[0m \u001b[1;33m=\u001b[0m \u001b[1;34m\"via_latex_xecjk\"\u001b[0m\u001b[1;33m\u001b[0m\u001b[1;33m\u001b[0m\u001b[0m\n\u001b[0;32m     46\u001b[0m \u001b[1;33m\u001b[0m\u001b[0m\n\u001b[1;32m---> 47\u001b[1;33m         \u001b[0mnb\u001b[0m \u001b[1;33m=\u001b[0m \u001b[0mcls\u001b[0m\u001b[1;33m.\u001b[0m\u001b[0mload_notebook\u001b[0m\u001b[1;33m(\u001b[0m\u001b[0mnb_path\u001b[0m\u001b[1;33m,\u001b[0m \u001b[0mfiltering\u001b[0m\u001b[1;33m=\u001b[0m\u001b[0moptions\u001b[0m\u001b[1;33m[\u001b[0m\u001b[1;34m\"filtering\"\u001b[0m\u001b[1;33m]\u001b[0m\u001b[1;33m,\u001b[0m \u001b[0mpagebreaks\u001b[0m\u001b[1;33m=\u001b[0m\u001b[0moptions\u001b[0m\u001b[1;33m[\u001b[0m\u001b[1;34m\"pagebreaks\"\u001b[0m\u001b[1;33m]\u001b[0m\u001b[1;33m)\u001b[0m\u001b[1;33m\u001b[0m\u001b[1;33m\u001b[0m\u001b[0m\n\u001b[0m\u001b[0;32m     48\u001b[0m \u001b[1;33m\u001b[0m\u001b[0m\n\u001b[0;32m     49\u001b[0m         \u001b[1;32mif\u001b[0m \u001b[0mNBCONVERT_6\u001b[0m\u001b[1;33m:\u001b[0m\u001b[1;33m\u001b[0m\u001b[1;33m\u001b[0m\u001b[0m\n",
      "\u001b[1;32m~\\anaconda3\\lib\\site-packages\\otter\\export\\exporters\\base_exporter.py\u001b[0m in \u001b[0;36mload_notebook\u001b[1;34m(cls, nb_path, filtering, pagebreaks)\u001b[0m\n\u001b[0;32m     74\u001b[0m         \"\"\"\n\u001b[0;32m     75\u001b[0m         \u001b[1;32mwith\u001b[0m \u001b[0mopen\u001b[0m\u001b[1;33m(\u001b[0m\u001b[0mnb_path\u001b[0m\u001b[1;33m)\u001b[0m \u001b[1;32mas\u001b[0m \u001b[0mf\u001b[0m\u001b[1;33m:\u001b[0m\u001b[1;33m\u001b[0m\u001b[1;33m\u001b[0m\u001b[0m\n\u001b[1;32m---> 76\u001b[1;33m             \u001b[0mnotebook\u001b[0m \u001b[1;33m=\u001b[0m \u001b[0mnbformat\u001b[0m\u001b[1;33m.\u001b[0m\u001b[0mread\u001b[0m\u001b[1;33m(\u001b[0m\u001b[0mf\u001b[0m\u001b[1;33m,\u001b[0m \u001b[0mas_version\u001b[0m\u001b[1;33m=\u001b[0m\u001b[0mNBFORMAT_VERSION\u001b[0m\u001b[1;33m)\u001b[0m\u001b[1;33m\u001b[0m\u001b[1;33m\u001b[0m\u001b[0m\n\u001b[0m\u001b[0;32m     77\u001b[0m         \u001b[1;32mif\u001b[0m \u001b[0mfiltering\u001b[0m\u001b[1;33m:\u001b[0m\u001b[1;33m\u001b[0m\u001b[1;33m\u001b[0m\u001b[0m\n\u001b[0;32m     78\u001b[0m             \u001b[0mnotebook\u001b[0m \u001b[1;33m=\u001b[0m \u001b[0mcls\u001b[0m\u001b[1;33m.\u001b[0m\u001b[0mfilter_cells\u001b[0m\u001b[1;33m(\u001b[0m\u001b[0mnotebook\u001b[0m\u001b[1;33m,\u001b[0m \u001b[0mpagebreaks\u001b[0m\u001b[1;33m=\u001b[0m\u001b[0mpagebreaks\u001b[0m\u001b[1;33m)\u001b[0m\u001b[1;33m\u001b[0m\u001b[1;33m\u001b[0m\u001b[0m\n",
      "\u001b[1;32m~\\anaconda3\\lib\\site-packages\\nbformat\\__init__.py\u001b[0m in \u001b[0;36mread\u001b[1;34m(fp, as_version, capture_validation_error, **kwargs)\u001b[0m\n\u001b[0;32m    163\u001b[0m \u001b[1;33m\u001b[0m\u001b[0m\n\u001b[0;32m    164\u001b[0m     \u001b[1;32mtry\u001b[0m\u001b[1;33m:\u001b[0m\u001b[1;33m\u001b[0m\u001b[1;33m\u001b[0m\u001b[0m\n\u001b[1;32m--> 165\u001b[1;33m         \u001b[0mbuf\u001b[0m \u001b[1;33m=\u001b[0m \u001b[0mfp\u001b[0m\u001b[1;33m.\u001b[0m\u001b[0mread\u001b[0m\u001b[1;33m(\u001b[0m\u001b[1;33m)\u001b[0m\u001b[1;33m\u001b[0m\u001b[1;33m\u001b[0m\u001b[0m\n\u001b[0m\u001b[0;32m    166\u001b[0m     \u001b[1;32mexcept\u001b[0m \u001b[0mAttributeError\u001b[0m\u001b[1;33m:\u001b[0m\u001b[1;33m\u001b[0m\u001b[1;33m\u001b[0m\u001b[0m\n\u001b[0;32m    167\u001b[0m         \u001b[1;32mwith\u001b[0m \u001b[0mopen\u001b[0m\u001b[1;33m(\u001b[0m\u001b[0mfp\u001b[0m\u001b[1;33m,\u001b[0m \u001b[0mencoding\u001b[0m\u001b[1;33m=\u001b[0m\u001b[1;34m\"utf-8\"\u001b[0m\u001b[1;33m)\u001b[0m \u001b[1;32mas\u001b[0m \u001b[0mf\u001b[0m\u001b[1;33m:\u001b[0m\u001b[1;33m\u001b[0m\u001b[1;33m\u001b[0m\u001b[0m\n",
      "\u001b[1;32m~\\anaconda3\\lib\\encodings\\cp1252.py\u001b[0m in \u001b[0;36mdecode\u001b[1;34m(self, input, final)\u001b[0m\n\u001b[0;32m     21\u001b[0m \u001b[1;32mclass\u001b[0m \u001b[0mIncrementalDecoder\u001b[0m\u001b[1;33m(\u001b[0m\u001b[0mcodecs\u001b[0m\u001b[1;33m.\u001b[0m\u001b[0mIncrementalDecoder\u001b[0m\u001b[1;33m)\u001b[0m\u001b[1;33m:\u001b[0m\u001b[1;33m\u001b[0m\u001b[1;33m\u001b[0m\u001b[0m\n\u001b[0;32m     22\u001b[0m     \u001b[1;32mdef\u001b[0m \u001b[0mdecode\u001b[0m\u001b[1;33m(\u001b[0m\u001b[0mself\u001b[0m\u001b[1;33m,\u001b[0m \u001b[0minput\u001b[0m\u001b[1;33m,\u001b[0m \u001b[0mfinal\u001b[0m\u001b[1;33m=\u001b[0m\u001b[1;32mFalse\u001b[0m\u001b[1;33m)\u001b[0m\u001b[1;33m:\u001b[0m\u001b[1;33m\u001b[0m\u001b[1;33m\u001b[0m\u001b[0m\n\u001b[1;32m---> 23\u001b[1;33m         \u001b[1;32mreturn\u001b[0m \u001b[0mcodecs\u001b[0m\u001b[1;33m.\u001b[0m\u001b[0mcharmap_decode\u001b[0m\u001b[1;33m(\u001b[0m\u001b[0minput\u001b[0m\u001b[1;33m,\u001b[0m\u001b[0mself\u001b[0m\u001b[1;33m.\u001b[0m\u001b[0merrors\u001b[0m\u001b[1;33m,\u001b[0m\u001b[0mdecoding_table\u001b[0m\u001b[1;33m)\u001b[0m\u001b[1;33m[\u001b[0m\u001b[1;36m0\u001b[0m\u001b[1;33m]\u001b[0m\u001b[1;33m\u001b[0m\u001b[1;33m\u001b[0m\u001b[0m\n\u001b[0m\u001b[0;32m     24\u001b[0m \u001b[1;33m\u001b[0m\u001b[0m\n\u001b[0;32m     25\u001b[0m \u001b[1;32mclass\u001b[0m \u001b[0mStreamWriter\u001b[0m\u001b[1;33m(\u001b[0m\u001b[0mCodec\u001b[0m\u001b[1;33m,\u001b[0m\u001b[0mcodecs\u001b[0m\u001b[1;33m.\u001b[0m\u001b[0mStreamWriter\u001b[0m\u001b[1;33m)\u001b[0m\u001b[1;33m:\u001b[0m\u001b[1;33m\u001b[0m\u001b[1;33m\u001b[0m\u001b[0m\n",
      "\u001b[1;31mUnicodeDecodeError\u001b[0m: 'charmap' codec can't decode byte 0x9d in position 4123: character maps to <undefined>"
     ]
    }
   ],
   "source": [
    "# Save your notebook first, then run this cell to export your submission.\n",
    "grader.export(filtering=False, run_tests=True)"
   ]
  },
  {
   "cell_type": "markdown",
   "metadata": {},
   "source": [
    " "
   ]
  }
 ],
 "metadata": {
  "kernelspec": {
   "display_name": "Python 3 (ipykernel)",
   "language": "python",
   "name": "python3"
  },
  "language_info": {
   "codemirror_mode": {
    "name": "ipython",
    "version": 3
   },
   "file_extension": ".py",
   "mimetype": "text/x-python",
   "name": "python",
   "nbconvert_exporter": "python",
   "pygments_lexer": "ipython3",
   "version": "3.9.13"
  },
  "otter": {
   "OK_FORMAT": true,
   "assignment_name": "a1",
   "tests": {
    "q0": {
     "name": "q0",
     "points": 2,
     "suites": [
      {
       "cases": [
        {
         "code": ">>> COLAB == False\nTrue",
         "hidden": false,
         "locked": false
        },
        {
         "code": ">>> LLM == True | GS == True\nTrue",
         "hidden": false,
         "locked": false
        }
       ],
       "scored": true,
       "setup": "",
       "teardown": "",
       "type": "doctest"
      }
     ]
    },
    "q1a": {
     "name": "q1a",
     "points": 5,
     "suites": [
      {
       "cases": [
        {
         "code": ">>> (adult.iloc[0,0]==39) & (adult.iloc[0,14] == '<=50K') & (adult.iloc[0,9] == 'Male')\nTrue",
         "hidden": false,
         "locked": false
        },
        {
         "code": ">>> adult.shape == (32561, 15)\nTrue",
         "hidden": false,
         "locked": false
        },
        {
         "code": ">>> (adult.iloc[102,4] == 14) & (adult.iloc[4895,13] == 'United-States')\nTrue",
         "hidden": false,
         "locked": false
        },
        {
         "code": ">>> all(adult.columns == [\"age\", \"workclass\", \"fnlwgt\", \"education\", \"education_num\", \n...           \"marital_status\", \"occupation\", \"relationship\", \"race\", \"sex\", \n...           \"capital_gain\", \"capital_loss\", \"hours_per_week\", \n...           \"native_country\", \"income\"])\nTrue",
         "hidden": false,
         "locked": false
        }
       ],
       "scored": true,
       "setup": "",
       "teardown": "",
       "type": "doctest"
      }
     ]
    },
    "q1c": {
     "name": "q1c",
     "points": 7,
     "suites": [
      {
       "cases": [
        {
         "code": ">>> type(miss_data) == pd.core.series.Series\nTrue",
         "hidden": false,
         "locked": false
        },
        {
         "code": ">>> miss_data.shape == (15,)\nTrue",
         "hidden": false,
         "locked": false
        },
        {
         "code": ">>> all(miss_data.index == ['age', 'workclass', 'fnlwgt', 'education', 'education_num',\n...        'marital_status', 'occupation', 'relationship', 'race', 'sex',\n...        'capital_gain', 'capital_loss', 'hours_per_week', 'native_country',\n...        'income'])\nTrue",
         "hidden": false,
         "locked": false
        },
        {
         "code": ">>> (miss_data[0] == 0.0) & (miss_data[14]==0.0) & \\\n... (miss_data[2] == 0.0) & (miss_data[3] == 0.0) & (miss_data[11] == 0.0)\nTrue",
         "hidden": false,
         "locked": false
        },
        {
         "code": ">>> (miss_data[4] == 0.0) & (miss_data[5] == 0.0) & (miss_data[10] == 0.0) & \\\n... (miss_data[7] == 0.0) & (miss_data[8] == 0.0) & (miss_data[9] == 0.0)\nTrue",
         "hidden": false,
         "locked": false
        }
       ],
       "scored": true,
       "setup": "",
       "teardown": "",
       "type": "doctest"
      }
     ]
    },
    "q2": {
     "name": "q2",
     "points": 20,
     "suites": [
      {
       "cases": [
        {
         "code": ">>> in1 = [0, 1, 2, 5]\n>>> out1 = minmaxNorm(in1, teData=None, minV=0, maxV=1)\n>>> np.isclose(out1[0][0], 0.0) & np.isclose(out1[0][1], 0.2) & \\\n... np.isclose(out1[0][2], 0.4) & np.isclose(out1[0][3], 1.) & \\\n... (out1[1] == None)\nTrue",
         "hidden": false,
         "locked": false
        },
        {
         "code": ">>> out2 = minmaxNorm(in1, teData=[2.5, -1, 3], minV=-1, maxV=1)\n>>> np.isclose(out2[0][0], -1.0) & np.isclose(out2[0][1], -0.6) & \\\n... np.isclose(out2[0][2], -0.2) & np.isclose(out2[0][3], 1.) & \\\n... np.isclose(out2[1][0], 0.0) & np.isclose(out2[1][1], -1.4) & \\\n... np.isclose(out2[1][2], 0.2)\nTrue",
         "hidden": false,
         "locked": false
        },
        {
         "code": ">>> out3 = zscoreNorm(in1, teData=None)\n>>> np.isclose(out3[0][0], -1.06904497) & np.isclose(out3[0][1], -0.53452248) & \\\n... np.isclose(out3[0][2], 0.0) & np.isclose(out3[0][3], 1.60356745) & \\\n... (out3[1] == None)\nTrue",
         "hidden": false,
         "locked": false
        },
        {
         "code": ">>> out4 = zscoreNorm(in1, teData=[2.5, -1, 3], madFlag=1)\n>>> np.isclose(out4[0][0], -1.333333) & np.isclose(out4[0][1], -0.6666666) & \\\n... np.isclose(out4[0][2], 0.0) & np.isclose(out4[0][3], 2.0) & \\\n... np.isclose(out4[1][0], 0.33333333) & np.isclose(out4[1][1], -2.0) & \\\n... np.isclose(out4[1][2], 0.66666666)\nTrue",
         "hidden": false,
         "locked": false
        },
        {
         "code": ">>> in2 = np.array([0, 1, 2, 4, 8])\n>>> out5 = minmaxNorm(in2, None) \n>>> np.allclose(out5[0], np.array([0., 0.125, 0.25, 0.5, 1.]))\nTrue",
         "hidden": false,
         "locked": false
        },
        {
         "code": ">>> out6 = zscoreNorm(in2, None)\n>>> np.allclose(out6[0], np.array([-1.06066017, -0.70710678, -0.35355339,  0.35355339,  1.76776695]))\nTrue",
         "hidden": false,
         "locked": false
        },
        {
         "code": ">>> out7 = minmaxNorm(in2, np.array([-1, 3, 5, 9]), -1, 1)\n>>> np.allclose(out7[0], np.array([-1.  , -0.75, -0.5 ,  0.  ,  1.  ])) & \\\n... np.allclose(out7[1], np.array([-1.25, -0.25,  0.25,  1.25]))\nTrue",
         "hidden": false,
         "locked": false
        },
        {
         "code": ">>> out8 = zscoreNorm(in2, np.array([1, 3, 5, 7]))\n>>> np.allclose(out8[0], np.array([-1.06066017, -0.70710678, -0.35355339,  0.35355339,  1.76776695])) & \\\n... np.allclose(out8[1], np.array([-0.70710678,  0.        ,  0.70710678,  1.41421356]))\nTrue",
         "hidden": false,
         "locked": false
        },
        {
         "code": ">>> in3 = np.array([[1, 3, 5, 4], [2, 6, 3, 8], [3, 10, 6, 9]])\n>>> out9 = minmaxNorm(in3, None)\n>>> np.allclose(out9[0], \n...             np.array([[0.        , 0.        , 0.66666667, 0.        ],\n...                       [0.5       , 0.42857143, 0.        , 0.8       ],\n...                       [1.        , 1.        , 1.        , 1.        ]]))\nTrue",
         "hidden": false,
         "locked": false
        },
        {
         "code": ">>> in3 = np.array([[1, 3, 5, 4], [2, 6, 3, 8], [3, 10, 6, 9]])\n>>> out12 = zscoreNorm(in3, None)\n>>> np.allclose(out12[0], \n...             np.array([[-1.22474487, -1.16247639,  0.26726124, -1.38873015],\n...                     [ 0.        , -0.11624764, -1.33630621,  0.46291005],\n...                     [ 1.22474487,  1.27872403,  1.06904497,  0.9258201 ]]))\nTrue",
         "hidden": false,
         "locked": false
        },
        {
         "code": ">>> in3 = np.array([[1, 3, 5, 4], [2, 6, 3, 8], [3, 10, 6, 9]])\n>>> out13 = zscoreNorm(in3, np.array([1, 6, 5, 8]))\n>>> np.allclose(out13[0], \n...             np.array([[-1.22474487, -1.16247639,  0.26726124, -1.38873015],\n...                     [ 0.        , -0.11624764, -1.33630621,  0.46291005],\n...                     [ 1.22474487,  1.27872403,  1.06904497,  0.9258201 ]])) & \\\n... np.allclose(out13[1], \n...             np.array([-1.22474487, -0.11624764,  0.26726124,  0.46291005]))\nTrue",
         "hidden": false,
         "locked": false
        },
        {
         "code": ">>> in3 = np.array([[1, 3, 5, 4], [2, 6, 3, 8], [3, 10, 6, 9]])\n>>> out14 = zscoreNorm(in3, np.array([[1, 3, 4, 5],  [3, 2, 5, 6]]), madFlag=1)\n>>> np.allclose(out14[0], \n...             np.array([[-0.42857143, -1.42857143,  0.14285714, -1.28571429],\n...                     [ 0.        , -0.14285714, -0.71428571,  0.42857143],\n...                     [ 0.42857143,  1.57142857,  0.57142857,  0.85714286]])) & \\\n... np.allclose(out14[1], \n...             np.array([[-0.42857143, -1.42857143, -0.28571429, -0.85714286],\n...                     [ 0.42857143, -1.85714286,  0.14285714, -0.42857143]]))\nTrue",
         "hidden": false,
         "locked": false
        },
        {
         "code": ">>> in4 = pd.DataFrame([[1, 3, 4, 5], [2, 6, 5, 8], [3, 4, 6, 9]])\n>>> in5 = pd.DataFrame([[2, 3, 6, 7], [4, 3, 8, 5]])\n>>> out15 = minmaxNorm(in4, None)\n>>> np.allclose(out15[0], \n...             np.array([[0.        , 0.        , 0.        , 0.        ],\n...                     [0.5       , 1.        , 0.5       , 0.75      ],\n...                     [1.        , 0.33333333, 1.        , 1.        ]])) & \\\n... (out15[1] == None)\nTrue",
         "hidden": false,
         "locked": false
        },
        {
         "code": ">>> in4 = pd.DataFrame([[1, 3, 4, 5], [2, 6, 5, 8], [3, 4, 6, 9]])\n>>> out17 = zscoreNorm(in4, None)\n>>> np.allclose(out17[0], \n...             np.array([[-1.22474487, -1.06904497, -1.22474487, -1.37281295],\n...         [ 0.        ,  1.33630621,  0.        ,  0.39223227],\n...         [ 1.22474487, -0.26726124,  1.22474487,  0.98058068]])) & \\\n... (out17[1] == None)\nTrue",
         "hidden": false,
         "locked": false
        }
       ],
       "scored": true,
       "setup": "",
       "teardown": "",
       "type": "doctest"
      }
     ]
    },
    "q3": {
     "name": "q3",
     "points": 8,
     "suites": [
      {
       "cases": [
        {
         "code": ">>> np.allclose(q3outC, \n...             np.array([[0.        , 0.        ],\n...                    [0.17      , 0.03225806],\n...                    [0.2       , 1.        ],\n...                    [0.4       , 0.20967742],\n...                    [0.65      , 0.4516129 ],\n...                    [1.        , 0.53225806]]))\nTrue",
         "hidden": false,
         "locked": false
        },
        {
         "code": ">>> np.allclose(q3outD,  \n...             np.array([[-1.20221086, -1.08103207],\n...                      [-0.69549389, -0.98702928],\n...                      [-0.60607324,  1.83305438],\n...                      [-0.00993563, -0.47001394],\n...                      [ 0.7352364,   0.23500697],\n...                      [ 1.77847723,  0.47001394]]))\nTrue",
         "hidden": false,
         "locked": false
        }
       ],
       "scored": true,
       "setup": "",
       "teardown": "",
       "type": "doctest"
      }
     ]
    },
    "q4": {
     "name": "q4",
     "points": 10,
     "suites": [
      {
       "cases": [
        {
         "code": ">>> np.allclose(dists.L1.to_numpy(), \n...             np.array([0.7 , 1.38, 0.8 , 2.1, 0.9 ]))\nTrue",
         "hidden": false,
         "locked": false
        }
       ],
       "scored": true,
       "setup": "",
       "teardown": "",
       "type": "doctest"
      }
     ]
    }
   }
  }
 },
 "nbformat": 4,
 "nbformat_minor": 4
}
